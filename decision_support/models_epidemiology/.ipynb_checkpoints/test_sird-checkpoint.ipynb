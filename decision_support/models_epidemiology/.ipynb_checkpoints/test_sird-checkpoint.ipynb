{
 "cells": [
  {
   "cell_type": "markdown",
   "metadata": {},
   "source": [
    "#### PySIR - Testing the SIRD model\n",
    "#### Author: Lucas Vilas Boas Alves <lucas.vbalves@gmail.com>"
   ]
  },
  {
   "cell_type": "code",
   "execution_count": 1,
   "metadata": {},
   "outputs": [],
   "source": [
    "import datetime\n",
    "import pysir\n",
    "import math\n",
    "import pandas as pd\n",
    "import numpy as np\n",
    "import matplotlib.pyplot as plt\n",
    "\n",
    "from sklearn.metrics import mean_squared_error\n",
    "from sklearn.metrics import mean_absolute_error\n",
    "from scipy.stats import pearsonr\n",
    "\n",
    "from IPython.display import display, Markdown"
   ]
  },
  {
   "cell_type": "code",
   "execution_count": 2,
   "metadata": {},
   "outputs": [],
   "source": [
    "pd.set_option('display.max_rows', 10)"
   ]
  },
  {
   "cell_type": "markdown",
   "metadata": {},
   "source": [
    "# Definição das funções de apoio"
   ]
  },
  {
   "cell_type": "markdown",
   "metadata": {},
   "source": [
    "### Função para cálculo do Fator de 2"
   ]
  },
  {
   "cell_type": "code",
   "execution_count": 3,
   "metadata": {},
   "outputs": [],
   "source": [
    "def get_fac2(y_true, y_pred):\n",
    "    min_ = 0.5\n",
    "    max_ = 2\n",
    "    \n",
    "    eps = np.finfo(np.float).eps\n",
    "    \n",
    "    division = y_pred / (y_true+eps)\n",
    "    \n",
    "    greater_min = np.greater_equal(division, min_)\n",
    "    less_max = np.less_equal(division, max_)\n",
    "\n",
    "    res = np.equal(greater_min, less_max)\n",
    "    res = res.astype(float)\n",
    "\n",
    "    fac_2 = res.mean()\n",
    "\n",
    "    return fac_2"
   ]
  },
  {
   "cell_type": "markdown",
   "metadata": {},
   "source": [
    "### Função para geração de DataFrame com métricas de regressão"
   ]
  },
  {
   "cell_type": "code",
   "execution_count": 4,
   "metadata": {},
   "outputs": [],
   "source": [
    "def get_metrics(y_true, y_pred):\n",
    "    \n",
    "    metrics = pd.DataFrame(columns=['MSE', 'RMSE', 'MAE', 'Pearson r', 'Fac2'])\n",
    "    \n",
    "    n_cols = y_true.shape[1]\n",
    "    \n",
    "    for col in range(n_cols):\n",
    "        y_true_col = y_true.iloc[:, col]\n",
    "        y_pred_col = y_pred.iloc[:, col]\n",
    "\n",
    "        if y_true_col.name == y_pred_col.name:\n",
    "            col_name = y_true_col.name\n",
    "        else:\n",
    "            print('Column name error.')\n",
    "            return None\n",
    "\n",
    "        mse = mean_squared_error(y_true_col, y_pred_col)\n",
    "        rmse = mean_squared_error(y_true_col, y_pred_col, squared=False)\n",
    "        mae = mean_absolute_error(y_true_col, y_pred_col)\n",
    "        pearson_r = pearsonr(y_true_col, y_pred_col)[0]\n",
    "        fac2 = get_fac2(y_true_col.values, y_pred_col.values)\n",
    "        metrics.loc[col_name, :] = [mse, rmse, mae, pearson_r, fac2]\n",
    "\n",
    "    metrics.loc['Average', :] = metrics.mean()\n",
    "    return metrics"
   ]
  },
  {
   "cell_type": "markdown",
   "metadata": {},
   "source": [
    "### Função para geração de DataFrame com métricas de regressão para cada região"
   ]
  },
  {
   "cell_type": "code",
   "execution_count": 5,
   "metadata": {},
   "outputs": [],
   "source": [
    "def get_regions_metrics(y_true, y_pred):\n",
    "    \n",
    "    regions = list(y_true['region'].unique())\n",
    "    regions_metrics = pd.DataFrame()\n",
    "    \n",
    "    for region in regions:\n",
    "        y_true_region = y_true[y_true['region'] == region].drop('region', axis=1)\n",
    "        y_pred_region = y_pred[y_pred['region'] == region].drop('region', axis=1)\n",
    "\n",
    "        region_metrics = get_metrics(y_true_region, y_pred_region)\n",
    "        avg_region_metrics = region_metrics.loc['Average':'Average', :]\n",
    "        avg_region_metrics.index = [region]\n",
    "\n",
    "        regions_metrics = pd.concat([regions_metrics, avg_region_metrics])\n",
    "        regions_metrics = regions_metrics.sort_values(by='MSE')\n",
    "\n",
    "    return regions_metrics"
   ]
  },
  {
   "cell_type": "markdown",
   "metadata": {},
   "source": [
    "### Função para plotar gráficos de dispersão entre valores reais e preditos para cada horizonte de previsão"
   ]
  },
  {
   "cell_type": "code",
   "execution_count": 6,
   "metadata": {},
   "outputs": [],
   "source": [
    "def plot_scatter(y_true, y_pred, title=''):\n",
    "    \n",
    "    plt.figure(figsize=(14, 18))\n",
    "    plt.suptitle(title, fontsize=14, y=0.915)\n",
    "    \n",
    "    n_cols = y_true.shape[1]\n",
    "    \n",
    "    for col in range(n_cols):\n",
    "        \n",
    "        max_val = max(y_true.iloc[:, col].max(), y_pred.iloc[:, col].max())\n",
    "        min_val = min(y_true.iloc[:, col].min(), y_pred.iloc[:, col].min())\n",
    "                \n",
    "        max_lim = max_val + max_val*0.05\n",
    "        max_lim = math.ceil(max_lim)\n",
    "        \n",
    "        ndigits = len(str(max_lim))\n",
    "        max_lim = int(math.ceil(max_lim / (10.0**(ndigits-2)) )) * (10.0**(ndigits-2))\n",
    "        \n",
    "        min_lim = min_val - max_val*0.05\n",
    "        min_lim = max(0, min_lim)\n",
    "        \n",
    "        plt.subplot(5, 4, col+1)\n",
    "        plt.title('Previsões para t+{}'.format(col+1))\n",
    "        plt.scatter(y_true.iloc[:, col], y_pred.iloc[:, col])\n",
    "        plt.xlabel('Real', fontsize=10)\n",
    "        plt.ylabel('Previsão', fontsize=10)\n",
    "        \n",
    "        plt.xlim(left=min_lim, right=max_lim)\n",
    "        plt.ylim(top=max_lim, bottom=min_lim)\n",
    "        \n",
    "        plt.xticks(np.linspace(min_lim, max_lim, num=5, dtype=int))\n",
    "        plt.yticks(np.linspace(min_lim, max_lim, num=5, dtype=int))\n",
    "\n",
    "        plt.plot([min_lim, max_lim], [min_lim, max_lim])\n",
    "        \n",
    "    plt.subplots_adjust(wspace=0.4, hspace=0.4)\n",
    "    plt.show()"
   ]
  },
  {
   "cell_type": "markdown",
   "metadata": {},
   "source": [
    "### Função para plotar valores reais e preditos em cada horizonte de previsão"
   ]
  },
  {
   "cell_type": "code",
   "execution_count": 7,
   "metadata": {},
   "outputs": [],
   "source": [
    "def plot_samples(y_true, y_pred, title='', xlabel='', ylabel=''):\n",
    "    \n",
    "    plt.figure(figsize=(14, 18))\n",
    "    plt.suptitle(title, fontsize=14, y=0.915)\n",
    "    \n",
    "    n_cols = y_true.shape[1]\n",
    "    \n",
    "    for col in range(n_cols):\n",
    "        \n",
    "        days = list(range(col+1, (col+1)+len(y_true)))\n",
    "        \n",
    "        plt.subplot(5, 4, col+1)\n",
    "        plt.title('Previsões para t+{}'.format(col+1))\n",
    "        plt.plot(days, y_true.iloc[:, col], label='Real')\n",
    "        plt.plot(days, y_pred.iloc[:, col], label='Previsão')\n",
    "        plt.legend()\n",
    "        plt.xlabel(xlabel, fontsize=10)\n",
    "        plt.ylabel(ylabel, fontsize=10)\n",
    "        plt.xlim(left=days[0], right=days[-1])\n",
    "        plt.xticks(np.linspace(days[0], days[-1], num=5, dtype=int))\n",
    "        \n",
    "    plt.subplots_adjust(wspace=0.4, hspace=0.4)\n",
    "    plt.show()"
   ]
  },
  {
   "cell_type": "markdown",
   "metadata": {},
   "source": [
    "### Função para plotar métricas do modelo em cada horizonte de previsão"
   ]
  },
  {
   "cell_type": "code",
   "execution_count": 8,
   "metadata": {},
   "outputs": [],
   "source": [
    "def plot_metrics(dict_metrics, title='', xlabel='', ylabel=''):\n",
    "    \n",
    "    plt.figure(figsize=(14, 12))\n",
    "    plt.suptitle(title, fontsize=14, y=0.935)\n",
    "    \n",
    "    keys = list(dict_metrics.keys())\n",
    "    key_0 = keys[0]\n",
    "    metrics_df_0 = dict_metrics[key_0]\n",
    "    metrics_names = metrics_df_0.columns\n",
    "    time_steps = list(range(1, metrics_df_0.shape[0]))\n",
    "    \n",
    "    for col, metric_name in enumerate(metrics_names):\n",
    "        \n",
    "        plt.subplot(3, 2, col+1)\n",
    "        \n",
    "        for key in dict_metrics.keys():\n",
    "            \n",
    "            metrics_df = dict_metrics[key]\n",
    "            plt.plot(time_steps, metrics_df.iloc[0:-1, col], marker='o', label=key)\n",
    "        \n",
    "        plt.title('{} para cada horizonte de previsão'.format(metric_name))\n",
    "        plt.legend()\n",
    "        plt.xlabel('Dias a frente', fontsize=10)\n",
    "        plt.ylabel(metric_name, fontsize=10)\n",
    "        plt.xlim(left=time_steps[0], right=time_steps[-1])\n",
    "        plt.xticks(np.linspace(time_steps[0], time_steps[-1], num=5, dtype=int))\n",
    "        \n",
    "    plt.subplots_adjust(wspace=0.2, hspace=0.4)\n",
    "    plt.show()"
   ]
  },
  {
   "cell_type": "markdown",
   "metadata": {},
   "source": [
    "### Função para plotar a variação dos parâmetros ajustados do modelo SEIR ao longo do tempo"
   ]
  },
  {
   "cell_type": "code",
   "execution_count": 9,
   "metadata": {},
   "outputs": [],
   "source": [
    "def plot_params(params_history, title=''):\n",
    "\n",
    "    plt.figure(figsize=(15, 12))\n",
    "    plt.suptitle(title, fontsize=14, y=0.93)\n",
    "\n",
    "    time = list(range(1, len(params_history)+1))\n",
    "\n",
    "    for col, param_name in enumerate(params_history.columns):\n",
    "\n",
    "        plt.subplot(3, 2, col+1)\n",
    "        plt.plot(time, params_history[param_name], marker='o', label=param_name)\n",
    "\n",
    "        plt.title('Variação de {} ao longo do tempo'.format(param_name))\n",
    "        plt.legend()\n",
    "        plt.xlabel('Dias', fontsize=10)\n",
    "        plt.ylabel(param_name, fontsize=10)\n",
    "        plt.xticks(np.linspace(time[0], time[-1], num=6, dtype=int))\n",
    "\n",
    "    plt.subplots_adjust(wspace=0.2, hspace=0.35)\n",
    "    plt.show()"
   ]
  },
  {
   "cell_type": "markdown",
   "metadata": {},
   "source": [
    "### Função para carregar nomes das regiões presentes nos dados do JHU"
   ]
  },
  {
   "cell_type": "code",
   "execution_count": 10,
   "metadata": {},
   "outputs": [],
   "source": [
    "def get_region_names(data):\n",
    "    \n",
    "    confirmed = data[0]\n",
    "    deaths = data[1]\n",
    "    recovered = data[2]\n",
    "    \n",
    "    confirmed_regions = set(confirmed['Country/Region'].unique())\n",
    "    deaths_regions = set(deaths['Country/Region'].unique())\n",
    "    recovered_regions = set(recovered['Country/Region'].unique())\n",
    "    \n",
    "    all_regions = confirmed_regions.intersection(deaths_regions, recovered_regions)\n",
    "    all_regions = list(all_regions)\n",
    "    all_regions.sort()\n",
    "    \n",
    "    return all_regions"
   ]
  },
  {
   "cell_type": "markdown",
   "metadata": {},
   "source": [
    "### Função para carregar dados do JHU de uma região específica"
   ]
  },
  {
   "cell_type": "code",
   "execution_count": 11,
   "metadata": {},
   "outputs": [],
   "source": [
    "def get_single_region_data(data, region):\n",
    "    \n",
    "    region_names = get_region_names(data)\n",
    "    \n",
    "    if region not in region_names:\n",
    "        print('get_single_region_data error: Region name not found!')\n",
    "        return None\n",
    "    \n",
    "    confirmed = data[0]\n",
    "    deaths = data[1]\n",
    "    recovered = data[2]\n",
    "    \n",
    "    var_dict = {'confirmed': confirmed,\n",
    "                'deaths': deaths,\n",
    "                'recovered': recovered}\n",
    "\n",
    "    region_data = pd.DataFrame()\n",
    "\n",
    "    for var_name, var_global in zip(var_dict.keys(), var_dict.values()):\n",
    "        \n",
    "        var_region = var_global[var_global['Country/Region']==region]\n",
    "        var_region = var_region.loc[:, '1/22/20':]\n",
    "        var_region = var_region.sum()\n",
    "\n",
    "        region_data[var_name] = var_region\n",
    "        \n",
    "    region_data.index = pd.to_datetime(region_data.index)\n",
    "    \n",
    "    # Select samples begining from the first confirmed case\n",
    "    region_data = region_data[region_data['confirmed']>0]\n",
    "    \n",
    "    # Create column to count the number of days since the first confirmed case\n",
    "    region_data['infection_days'] = np.arange(1, len(region_data)+1)\n",
    "    \n",
    "    # Insert region name\n",
    "    region_data.insert(loc=0, column='region', value=region)\n",
    "    \n",
    "    return region_data"
   ]
  },
  {
   "cell_type": "markdown",
   "metadata": {},
   "source": [
    "# Preparação dos dados"
   ]
  },
  {
   "cell_type": "markdown",
   "metadata": {},
   "source": [
    "### Carregando dados populacionais mundiais"
   ]
  },
  {
   "cell_type": "code",
   "execution_count": 12,
   "metadata": {},
   "outputs": [],
   "source": [
    "population_df = pd.read_csv('kaggle_pop_data/population_by_country_2020.csv')\n",
    "population_df = population_df.drop(\n",
    "    columns=['Yearly Change','Net Change',\n",
    "             'Density (P/Km²)','Land Area (Km²)',\n",
    "             'Migrants (net)','Fert. Rate', 'World Share']\n",
    ")"
   ]
  },
  {
   "cell_type": "markdown",
   "metadata": {},
   "source": [
    "### Selecionando população estimada do Brasil em 2020"
   ]
  },
  {
   "cell_type": "code",
   "execution_count": 13,
   "metadata": {},
   "outputs": [],
   "source": [
    "brazil_pop = population_df[population_df['Country (or dependency)']=='Brazil']['Population (2020)'].values[0]"
   ]
  },
  {
   "cell_type": "code",
   "execution_count": 14,
   "metadata": {},
   "outputs": [
    {
     "data": {
      "text/plain": [
       "212253150"
      ]
     },
     "execution_count": 14,
     "metadata": {},
     "output_type": "execute_result"
    }
   ],
   "source": [
    "brazil_pop"
   ]
  },
  {
   "cell_type": "markdown",
   "metadata": {},
   "source": [
    "### Diretórios dos arquivos com dados do JHU"
   ]
  },
  {
   "cell_type": "code",
   "execution_count": 15,
   "metadata": {},
   "outputs": [],
   "source": [
    "confirmed_filename = 'jhu_data/time_series_covid19_confirmed_global.csv'\n",
    "deaths_filename = 'jhu_data/time_series_covid19_deaths_global.csv'\n",
    "recovered_filename = 'jhu_data/time_series_covid19_recovered_global.csv'"
   ]
  },
  {
   "cell_type": "markdown",
   "metadata": {},
   "source": [
    "### Carregando dados do JHU"
   ]
  },
  {
   "cell_type": "code",
   "execution_count": 16,
   "metadata": {},
   "outputs": [],
   "source": [
    "confirmed = pd.read_csv(confirmed_filename)\n",
    "deaths = pd.read_csv(deaths_filename)\n",
    "recovered = pd.read_csv(recovered_filename)\n",
    "\n",
    "data = [confirmed, deaths, recovered]"
   ]
  },
  {
   "cell_type": "markdown",
   "metadata": {},
   "source": [
    "### Selecionando dados do JHU para o Brasil e transformando-os em dados diários"
   ]
  },
  {
   "cell_type": "code",
   "execution_count": 17,
   "metadata": {},
   "outputs": [],
   "source": [
    "brazil = get_single_region_data(data, 'Brazil')\n",
    "\n",
    "brazil_daily = brazil.copy()\n",
    "brazil_daily.loc[:,'confirmed':'recovered'] = brazil_daily.loc[:,'confirmed':'recovered'].diff()\n",
    "brazil_daily.iloc[0, :] = brazil.iloc[0, :]"
   ]
  },
  {
   "cell_type": "markdown",
   "metadata": {},
   "source": [
    "### Selecionando dados dos últimos 30 dias para ajustar modelo"
   ]
  },
  {
   "cell_type": "code",
   "execution_count": 18,
   "metadata": {},
   "outputs": [],
   "source": [
    "x_brazil_daily = brazil_daily.copy()"
   ]
  },
  {
   "cell_type": "code",
   "execution_count": 19,
   "metadata": {},
   "outputs": [
    {
     "data": {
      "text/html": [
       "<div>\n",
       "<style scoped>\n",
       "    .dataframe tbody tr th:only-of-type {\n",
       "        vertical-align: middle;\n",
       "    }\n",
       "\n",
       "    .dataframe tbody tr th {\n",
       "        vertical-align: top;\n",
       "    }\n",
       "\n",
       "    .dataframe thead th {\n",
       "        text-align: right;\n",
       "    }\n",
       "</style>\n",
       "<table border=\"1\" class=\"dataframe\">\n",
       "  <thead>\n",
       "    <tr style=\"text-align: right;\">\n",
       "      <th></th>\n",
       "      <th>region</th>\n",
       "      <th>confirmed</th>\n",
       "      <th>deaths</th>\n",
       "      <th>recovered</th>\n",
       "      <th>infection_days</th>\n",
       "    </tr>\n",
       "  </thead>\n",
       "  <tbody>\n",
       "    <tr>\n",
       "      <th>2020-02-26</th>\n",
       "      <td>Brazil</td>\n",
       "      <td>1.0</td>\n",
       "      <td>0.0</td>\n",
       "      <td>0.0</td>\n",
       "      <td>1</td>\n",
       "    </tr>\n",
       "    <tr>\n",
       "      <th>2020-02-27</th>\n",
       "      <td>Brazil</td>\n",
       "      <td>0.0</td>\n",
       "      <td>0.0</td>\n",
       "      <td>0.0</td>\n",
       "      <td>2</td>\n",
       "    </tr>\n",
       "    <tr>\n",
       "      <th>2020-02-28</th>\n",
       "      <td>Brazil</td>\n",
       "      <td>0.0</td>\n",
       "      <td>0.0</td>\n",
       "      <td>0.0</td>\n",
       "      <td>3</td>\n",
       "    </tr>\n",
       "    <tr>\n",
       "      <th>2020-02-29</th>\n",
       "      <td>Brazil</td>\n",
       "      <td>1.0</td>\n",
       "      <td>0.0</td>\n",
       "      <td>0.0</td>\n",
       "      <td>4</td>\n",
       "    </tr>\n",
       "    <tr>\n",
       "      <th>2020-03-01</th>\n",
       "      <td>Brazil</td>\n",
       "      <td>0.0</td>\n",
       "      <td>0.0</td>\n",
       "      <td>0.0</td>\n",
       "      <td>5</td>\n",
       "    </tr>\n",
       "    <tr>\n",
       "      <th>...</th>\n",
       "      <td>...</td>\n",
       "      <td>...</td>\n",
       "      <td>...</td>\n",
       "      <td>...</td>\n",
       "      <td>...</td>\n",
       "    </tr>\n",
       "    <tr>\n",
       "      <th>2020-06-12</th>\n",
       "      <td>Brazil</td>\n",
       "      <td>25982.0</td>\n",
       "      <td>909.0</td>\n",
       "      <td>15158.0</td>\n",
       "      <td>108</td>\n",
       "    </tr>\n",
       "    <tr>\n",
       "      <th>2020-06-13</th>\n",
       "      <td>Brazil</td>\n",
       "      <td>21704.0</td>\n",
       "      <td>892.0</td>\n",
       "      <td>14313.0</td>\n",
       "      <td>109</td>\n",
       "    </tr>\n",
       "    <tr>\n",
       "      <th>2020-06-14</th>\n",
       "      <td>Brazil</td>\n",
       "      <td>17110.0</td>\n",
       "      <td>612.0</td>\n",
       "      <td>9705.0</td>\n",
       "      <td>110</td>\n",
       "    </tr>\n",
       "    <tr>\n",
       "      <th>2020-06-15</th>\n",
       "      <td>Brazil</td>\n",
       "      <td>20647.0</td>\n",
       "      <td>627.0</td>\n",
       "      <td>8568.0</td>\n",
       "      <td>111</td>\n",
       "    </tr>\n",
       "    <tr>\n",
       "      <th>2020-06-16</th>\n",
       "      <td>Brazil</td>\n",
       "      <td>34918.0</td>\n",
       "      <td>1282.0</td>\n",
       "      <td>12296.0</td>\n",
       "      <td>112</td>\n",
       "    </tr>\n",
       "  </tbody>\n",
       "</table>\n",
       "<p>112 rows × 5 columns</p>\n",
       "</div>"
      ],
      "text/plain": [
       "            region  confirmed  deaths  recovered  infection_days\n",
       "2020-02-26  Brazil        1.0     0.0        0.0               1\n",
       "2020-02-27  Brazil        0.0     0.0        0.0               2\n",
       "2020-02-28  Brazil        0.0     0.0        0.0               3\n",
       "2020-02-29  Brazil        1.0     0.0        0.0               4\n",
       "2020-03-01  Brazil        0.0     0.0        0.0               5\n",
       "...            ...        ...     ...        ...             ...\n",
       "2020-06-12  Brazil    25982.0   909.0    15158.0             108\n",
       "2020-06-13  Brazil    21704.0   892.0    14313.0             109\n",
       "2020-06-14  Brazil    17110.0   612.0     9705.0             110\n",
       "2020-06-15  Brazil    20647.0   627.0     8568.0             111\n",
       "2020-06-16  Brazil    34918.0  1282.0    12296.0             112\n",
       "\n",
       "[112 rows x 5 columns]"
      ]
     },
     "execution_count": 19,
     "metadata": {},
     "output_type": "execute_result"
    }
   ],
   "source": [
    "x_brazil_daily"
   ]
  },
  {
   "cell_type": "markdown",
   "metadata": {},
   "source": [
    "### Criando dataset com dados futuros vazios"
   ]
  },
  {
   "cell_type": "code",
   "execution_count": 20,
   "metadata": {},
   "outputs": [],
   "source": [
    "y_brazil_daily = brazil_daily.iloc[-20:, :].copy()\n",
    "y_brazil_daily.loc[:, 'confirmed':'recovered'] = np.nan\n",
    "y_brazil_daily.loc[:, 'infection_days'] = y_brazil_daily.loc[:, 'infection_days']+20\n",
    "y_brazil_daily.index = y_brazil_daily.index + datetime.timedelta(days=20)"
   ]
  },
  {
   "cell_type": "code",
   "execution_count": 21,
   "metadata": {},
   "outputs": [
    {
     "data": {
      "text/html": [
       "<div>\n",
       "<style scoped>\n",
       "    .dataframe tbody tr th:only-of-type {\n",
       "        vertical-align: middle;\n",
       "    }\n",
       "\n",
       "    .dataframe tbody tr th {\n",
       "        vertical-align: top;\n",
       "    }\n",
       "\n",
       "    .dataframe thead th {\n",
       "        text-align: right;\n",
       "    }\n",
       "</style>\n",
       "<table border=\"1\" class=\"dataframe\">\n",
       "  <thead>\n",
       "    <tr style=\"text-align: right;\">\n",
       "      <th></th>\n",
       "      <th>region</th>\n",
       "      <th>confirmed</th>\n",
       "      <th>deaths</th>\n",
       "      <th>recovered</th>\n",
       "      <th>infection_days</th>\n",
       "    </tr>\n",
       "  </thead>\n",
       "  <tbody>\n",
       "    <tr>\n",
       "      <th>2020-06-17</th>\n",
       "      <td>Brazil</td>\n",
       "      <td>NaN</td>\n",
       "      <td>NaN</td>\n",
       "      <td>NaN</td>\n",
       "      <td>113</td>\n",
       "    </tr>\n",
       "    <tr>\n",
       "      <th>2020-06-18</th>\n",
       "      <td>Brazil</td>\n",
       "      <td>NaN</td>\n",
       "      <td>NaN</td>\n",
       "      <td>NaN</td>\n",
       "      <td>114</td>\n",
       "    </tr>\n",
       "    <tr>\n",
       "      <th>2020-06-19</th>\n",
       "      <td>Brazil</td>\n",
       "      <td>NaN</td>\n",
       "      <td>NaN</td>\n",
       "      <td>NaN</td>\n",
       "      <td>115</td>\n",
       "    </tr>\n",
       "    <tr>\n",
       "      <th>2020-06-20</th>\n",
       "      <td>Brazil</td>\n",
       "      <td>NaN</td>\n",
       "      <td>NaN</td>\n",
       "      <td>NaN</td>\n",
       "      <td>116</td>\n",
       "    </tr>\n",
       "    <tr>\n",
       "      <th>2020-06-21</th>\n",
       "      <td>Brazil</td>\n",
       "      <td>NaN</td>\n",
       "      <td>NaN</td>\n",
       "      <td>NaN</td>\n",
       "      <td>117</td>\n",
       "    </tr>\n",
       "    <tr>\n",
       "      <th>...</th>\n",
       "      <td>...</td>\n",
       "      <td>...</td>\n",
       "      <td>...</td>\n",
       "      <td>...</td>\n",
       "      <td>...</td>\n",
       "    </tr>\n",
       "    <tr>\n",
       "      <th>2020-07-02</th>\n",
       "      <td>Brazil</td>\n",
       "      <td>NaN</td>\n",
       "      <td>NaN</td>\n",
       "      <td>NaN</td>\n",
       "      <td>128</td>\n",
       "    </tr>\n",
       "    <tr>\n",
       "      <th>2020-07-03</th>\n",
       "      <td>Brazil</td>\n",
       "      <td>NaN</td>\n",
       "      <td>NaN</td>\n",
       "      <td>NaN</td>\n",
       "      <td>129</td>\n",
       "    </tr>\n",
       "    <tr>\n",
       "      <th>2020-07-04</th>\n",
       "      <td>Brazil</td>\n",
       "      <td>NaN</td>\n",
       "      <td>NaN</td>\n",
       "      <td>NaN</td>\n",
       "      <td>130</td>\n",
       "    </tr>\n",
       "    <tr>\n",
       "      <th>2020-07-05</th>\n",
       "      <td>Brazil</td>\n",
       "      <td>NaN</td>\n",
       "      <td>NaN</td>\n",
       "      <td>NaN</td>\n",
       "      <td>131</td>\n",
       "    </tr>\n",
       "    <tr>\n",
       "      <th>2020-07-06</th>\n",
       "      <td>Brazil</td>\n",
       "      <td>NaN</td>\n",
       "      <td>NaN</td>\n",
       "      <td>NaN</td>\n",
       "      <td>132</td>\n",
       "    </tr>\n",
       "  </tbody>\n",
       "</table>\n",
       "<p>20 rows × 5 columns</p>\n",
       "</div>"
      ],
      "text/plain": [
       "            region  confirmed  deaths  recovered  infection_days\n",
       "2020-06-17  Brazil        NaN     NaN        NaN             113\n",
       "2020-06-18  Brazil        NaN     NaN        NaN             114\n",
       "2020-06-19  Brazil        NaN     NaN        NaN             115\n",
       "2020-06-20  Brazil        NaN     NaN        NaN             116\n",
       "2020-06-21  Brazil        NaN     NaN        NaN             117\n",
       "...            ...        ...     ...        ...             ...\n",
       "2020-07-02  Brazil        NaN     NaN        NaN             128\n",
       "2020-07-03  Brazil        NaN     NaN        NaN             129\n",
       "2020-07-04  Brazil        NaN     NaN        NaN             130\n",
       "2020-07-05  Brazil        NaN     NaN        NaN             131\n",
       "2020-07-06  Brazil        NaN     NaN        NaN             132\n",
       "\n",
       "[20 rows x 5 columns]"
      ]
     },
     "execution_count": 21,
     "metadata": {},
     "output_type": "execute_result"
    }
   ],
   "source": [
    "y_brazil_daily"
   ]
  },
  {
   "cell_type": "markdown",
   "metadata": {},
   "source": [
    "# Modelo SIRD"
   ]
  },
  {
   "cell_type": "markdown",
   "metadata": {},
   "source": [
    "### Ajustando modelo SIRD aos dados de casos confirmados do Brasil"
   ]
  },
  {
   "cell_type": "code",
   "execution_count": 22,
   "metadata": {},
   "outputs": [
    {
     "name": "stdout",
     "output_type": "stream",
     "text": [
      "Begin: 2020-08-31 19:55:38.565397\n",
      "End: 2020-08-31 19:57:14.357460\n",
      "Time: 0:01:35.792063\n"
     ]
    }
   ],
   "source": [
    "model = pysir.SIRD(brazil_pop)\n",
    "\n",
    "begin = datetime.datetime.now()\n",
    "print('Begin:', begin)\n",
    "\n",
    "history = model.fit(x_brazil_daily)\n",
    "\n",
    "end = datetime.datetime.now()\n",
    "print('End:', end)\n",
    "\n",
    "print('Time:', end-begin)"
   ]
  },
  {
   "cell_type": "markdown",
   "metadata": {},
   "source": [
    "### Parâmetros do modelo SIRD ajustados aos dados"
   ]
  },
  {
   "cell_type": "code",
   "execution_count": 23,
   "metadata": {},
   "outputs": [
    {
     "data": {
      "text/plain": [
       "{'beta': 0.45697887443621754,\n",
       " 'T_inf': 2.135257022792577,\n",
       " 'N_inf': 99.99282772449607,\n",
       " 'T_death': 14.140991321415449,\n",
       " 'cfr': 0.1834544740379953}"
      ]
     },
     "execution_count": 23,
     "metadata": {},
     "output_type": "execute_result"
    }
   ],
   "source": [
    "model.params"
   ]
  },
  {
   "cell_type": "markdown",
   "metadata": {},
   "source": [
    "### Avaliando erro entre dados de treinamento e previsão do modelo com os parâmetros ajustados"
   ]
  },
  {
   "cell_type": "code",
   "execution_count": 24,
   "metadata": {},
   "outputs": [],
   "source": [
    "loss = model.evaluate(x_brazil_daily)"
   ]
  },
  {
   "cell_type": "code",
   "execution_count": 25,
   "metadata": {},
   "outputs": [
    {
     "name": "stdout",
     "output_type": "stream",
     "text": [
      "MSE: 16286796.674107144\n"
     ]
    }
   ],
   "source": [
    "print('MSE:', loss)"
   ]
  },
  {
   "cell_type": "markdown",
   "metadata": {},
   "source": [
    "### Fazendo previsões de casos confirmados no Brasil para os próximos 20 dias"
   ]
  },
  {
   "cell_type": "code",
   "execution_count": 26,
   "metadata": {},
   "outputs": [],
   "source": [
    "y_pred_df = model.predict(x_brazil_daily, look_forward=20)"
   ]
  },
  {
   "cell_type": "code",
   "execution_count": 27,
   "metadata": {},
   "outputs": [
    {
     "data": {
      "text/html": [
       "<div>\n",
       "<style scoped>\n",
       "    .dataframe tbody tr th:only-of-type {\n",
       "        vertical-align: middle;\n",
       "    }\n",
       "\n",
       "    .dataframe tbody tr th {\n",
       "        vertical-align: top;\n",
       "    }\n",
       "\n",
       "    .dataframe thead th {\n",
       "        text-align: right;\n",
       "    }\n",
       "</style>\n",
       "<table border=\"1\" class=\"dataframe\">\n",
       "  <thead>\n",
       "    <tr style=\"text-align: right;\">\n",
       "      <th></th>\n",
       "      <th>region</th>\n",
       "      <th>confirmed</th>\n",
       "      <th>deaths</th>\n",
       "    </tr>\n",
       "  </thead>\n",
       "  <tbody>\n",
       "    <tr>\n",
       "      <th>113</th>\n",
       "      <td>Brazil</td>\n",
       "      <td>42705.0</td>\n",
       "      <td>1217.0</td>\n",
       "    </tr>\n",
       "    <tr>\n",
       "      <th>114</th>\n",
       "      <td>Brazil</td>\n",
       "      <td>45337.0</td>\n",
       "      <td>1291.0</td>\n",
       "    </tr>\n",
       "    <tr>\n",
       "      <th>115</th>\n",
       "      <td>Brazil</td>\n",
       "      <td>48127.0</td>\n",
       "      <td>1372.0</td>\n",
       "    </tr>\n",
       "    <tr>\n",
       "      <th>116</th>\n",
       "      <td>Brazil</td>\n",
       "      <td>51083.0</td>\n",
       "      <td>1456.0</td>\n",
       "    </tr>\n",
       "    <tr>\n",
       "      <th>117</th>\n",
       "      <td>Brazil</td>\n",
       "      <td>54213.0</td>\n",
       "      <td>1545.0</td>\n",
       "    </tr>\n",
       "    <tr>\n",
       "      <th>...</th>\n",
       "      <td>...</td>\n",
       "      <td>...</td>\n",
       "      <td>...</td>\n",
       "    </tr>\n",
       "    <tr>\n",
       "      <th>128</th>\n",
       "      <td>Brazil</td>\n",
       "      <td>103172.0</td>\n",
       "      <td>2953.0</td>\n",
       "    </tr>\n",
       "    <tr>\n",
       "      <th>129</th>\n",
       "      <td>Brazil</td>\n",
       "      <td>109251.0</td>\n",
       "      <td>3129.0</td>\n",
       "    </tr>\n",
       "    <tr>\n",
       "      <th>130</th>\n",
       "      <td>Brazil</td>\n",
       "      <td>115656.0</td>\n",
       "      <td>3314.0</td>\n",
       "    </tr>\n",
       "    <tr>\n",
       "      <th>131</th>\n",
       "      <td>Brazil</td>\n",
       "      <td>122403.0</td>\n",
       "      <td>3509.0</td>\n",
       "    </tr>\n",
       "    <tr>\n",
       "      <th>132</th>\n",
       "      <td>Brazil</td>\n",
       "      <td>129505.0</td>\n",
       "      <td>3715.0</td>\n",
       "    </tr>\n",
       "  </tbody>\n",
       "</table>\n",
       "<p>20 rows × 3 columns</p>\n",
       "</div>"
      ],
      "text/plain": [
       "     region  confirmed  deaths\n",
       "113  Brazil    42705.0  1217.0\n",
       "114  Brazil    45337.0  1291.0\n",
       "115  Brazil    48127.0  1372.0\n",
       "116  Brazil    51083.0  1456.0\n",
       "117  Brazil    54213.0  1545.0\n",
       "..      ...        ...     ...\n",
       "128  Brazil   103172.0  2953.0\n",
       "129  Brazil   109251.0  3129.0\n",
       "130  Brazil   115656.0  3314.0\n",
       "131  Brazil   122403.0  3509.0\n",
       "132  Brazil   129505.0  3715.0\n",
       "\n",
       "[20 rows x 3 columns]"
      ]
     },
     "execution_count": 27,
     "metadata": {},
     "output_type": "execute_result"
    }
   ],
   "source": [
    "y_pred_df"
   ]
  },
  {
   "cell_type": "markdown",
   "metadata": {},
   "source": [
    "### Modelando compartimentos do modelo SIRD para 180 dias de epidemia no Brasil"
   ]
  },
  {
   "cell_type": "code",
   "execution_count": 28,
   "metadata": {},
   "outputs": [],
   "source": [
    "solution = model.solve(n_days=180)"
   ]
  },
  {
   "cell_type": "code",
   "execution_count": 29,
   "metadata": {},
   "outputs": [
    {
     "name": "stdout",
     "output_type": "stream",
     "text": [
      "Suscetíveis no dia 180: 188106634.0\n",
      "Infectados no dia 180: 1967769.0\n",
      "Removidos no dia 180: 21451024.0\n",
      "Mortos no dia 180: 727723.0\n"
     ]
    }
   ],
   "source": [
    "print('Suscetíveis no dia 180:', solution[0][179])\n",
    "print('Infectados no dia 180:', solution[1][179])\n",
    "print('Removidos no dia 180:', solution[2][179])\n",
    "print('Mortos no dia 180:', solution[3][179])"
   ]
  },
  {
   "cell_type": "markdown",
   "metadata": {},
   "source": [
    "### Plotando previsões do modelo"
   ]
  },
  {
   "cell_type": "code",
   "execution_count": 30,
   "metadata": {},
   "outputs": [
    {
     "data": {
      "image/png": "[encoded data removed]",
      "text/plain": [
       "<Figure size 1080x720 with 3 Axes>"
      ]
     },
     "metadata": {
      "needs_background": "light"
     },
     "output_type": "display_data"
    }
   ],
   "source": [
    "fig, ax1, ax2, ax3 = model.plot_predictions(\n",
    "    n_days=180, x=x_brazil_daily, y_true=y_brazil_daily,\n",
    "    title='Predicted infections in Brazil')"
   ]
  }
 ],
 "metadata": {
  "kernelspec": {
   "display_name": "Python 3",
   "language": "python",
   "name": "python3"
  },
  "language_info": {
   "codemirror_mode": {
    "name": "ipython",
    "version": 3
   },
   "file_extension": ".py",
   "mimetype": "text/x-python",
   "name": "python",
   "nbconvert_exporter": "python",
   "pygments_lexer": "ipython3",
   "version": "3.7.7"
  }
 },
 "nbformat": 4,
 "nbformat_minor": 4
}
