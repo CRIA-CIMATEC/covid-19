{
 "cells": [
  {
   "cell_type": "markdown",
   "metadata": {},
   "source": [
    "#### IMPORTAÇÕES"
   ]
  },
  {
   "cell_type": "code",
   "execution_count": 1,
   "metadata": {},
   "outputs": [],
   "source": [
    "import os\n",
    "import pandas as pd\n",
    "import numpy as np\n",
    "from IPython.display import display, Markdown\n",
    "import datetime as dt\n",
    "from datetime import datetime\n",
    "from sklearn.ensemble import GradientBoostingRegressor"
   ]
  },
  {
   "cell_type": "markdown",
   "metadata": {},
   "source": [
    "#### FUNÇÕES TRIVIAIS"
   ]
  },
  {
   "cell_type": "code",
   "execution_count": 2,
   "metadata": {},
   "outputs": [],
   "source": [
    "def input_periodo_de_contagio(df):\n",
    "    lista_regiao = list(df[\"Country/Region\"].unique())\n",
    "    lista_df = []\n",
    "    for i in lista_regiao:\n",
    "        mask = df['Country/Region'] == i\n",
    "        df_temp = df.loc[mask]\n",
    "        dias_de_contagio = np.arange(1,df_temp.shape[0]+1)\n",
    "        df_temp.insert(2, \"Time\", dias_de_contagio )\n",
    "        lista_df.append(df_temp)\n",
    "    df_final = pd.concat(lista_df) \n",
    "    return df_final\n",
    "\n",
    "def drop_country(df,lista_atributos):\n",
    "    for i in lista_atributos:\n",
    "        df_temp = df[df[i].isnull()]\n",
    "        lista_regiao_para_dropar = list(df_temp[\"Country/Region\"].unique())\n",
    "        df_filtrado = df[df['Country/Region'].isin(lista_regiao_para_dropar) == False]\n",
    "    return df_filtrado"
   ]
  },
  {
   "cell_type": "markdown",
   "metadata": {},
   "source": [
    "#### LEITURA DO BANCO DE DADOS REAL"
   ]
  },
  {
   "cell_type": "code",
   "execution_count": 3,
   "metadata": {},
   "outputs": [],
   "source": [
    "nome_arquivo_analise = \"complete_mundial_estadual_model_20200807.csv\"\n",
    "arquivo = os.path.abspath(\"real_datasets/\"+nome_arquivo_analise)\n",
    "dados = pd.read_csv(arquivo,  sep=\",\" , decimal=\".\")"
   ]
  },
  {
   "cell_type": "code",
   "execution_count": 4,
   "metadata": {},
   "outputs": [
    {
     "data": {
      "text/markdown": [
       "<h4>NOMES DOS ATRIBUTOS E O SEUS PRIMEIROS VALORES</h4>"
      ],
      "text/plain": [
       "<IPython.core.display.Markdown object>"
      ]
     },
     "metadata": {},
     "output_type": "display_data"
    },
    {
     "data": {
      "text/html": [
       "<div>\n",
       "<style scoped>\n",
       "    .dataframe tbody tr th:only-of-type {\n",
       "        vertical-align: middle;\n",
       "    }\n",
       "\n",
       "    .dataframe tbody tr th {\n",
       "        vertical-align: top;\n",
       "    }\n",
       "\n",
       "    .dataframe thead th {\n",
       "        text-align: right;\n",
       "    }\n",
       "</style>\n",
       "<table border=\"1\" class=\"dataframe\">\n",
       "  <thead>\n",
       "    <tr style=\"text-align: right;\">\n",
       "      <th></th>\n",
       "      <th>C1</th>\n",
       "      <th>C2</th>\n",
       "      <th>C3</th>\n",
       "      <th>C4</th>\n",
       "      <th>C5</th>\n",
       "      <th>C6</th>\n",
       "      <th>C7</th>\n",
       "      <th>C8</th>\n",
       "      <th>Confirmed</th>\n",
       "      <th>Country/Region</th>\n",
       "      <th>Date</th>\n",
       "      <th>Deaths</th>\n",
       "      <th>estagio</th>\n",
       "      <th>peak</th>\n",
       "      <th>postinflex</th>\n",
       "      <th>preinflex</th>\n",
       "    </tr>\n",
       "  </thead>\n",
       "  <tbody>\n",
       "    <tr>\n",
       "      <th>0</th>\n",
       "      <td>0.0</td>\n",
       "      <td>0.0</td>\n",
       "      <td>0.0</td>\n",
       "      <td>0.0</td>\n",
       "      <td>0.0</td>\n",
       "      <td>0.0</td>\n",
       "      <td>0.0</td>\n",
       "      <td>1.0</td>\n",
       "      <td>1.0</td>\n",
       "      <td>Afghanistan</td>\n",
       "      <td>2020-02-24</td>\n",
       "      <td>0.0</td>\n",
       "      <td>5.0</td>\n",
       "      <td>133.0</td>\n",
       "      <td>154.0</td>\n",
       "      <td>112.0</td>\n",
       "    </tr>\n",
       "    <tr>\n",
       "      <th>1</th>\n",
       "      <td>0.0</td>\n",
       "      <td>0.0</td>\n",
       "      <td>0.0</td>\n",
       "      <td>0.0</td>\n",
       "      <td>0.0</td>\n",
       "      <td>0.0</td>\n",
       "      <td>0.0</td>\n",
       "      <td>1.0</td>\n",
       "      <td>0.0</td>\n",
       "      <td>Afghanistan</td>\n",
       "      <td>2020-02-25</td>\n",
       "      <td>0.0</td>\n",
       "      <td>5.0</td>\n",
       "      <td>133.0</td>\n",
       "      <td>154.0</td>\n",
       "      <td>112.0</td>\n",
       "    </tr>\n",
       "    <tr>\n",
       "      <th>2</th>\n",
       "      <td>0.0</td>\n",
       "      <td>0.0</td>\n",
       "      <td>0.0</td>\n",
       "      <td>0.0</td>\n",
       "      <td>0.0</td>\n",
       "      <td>0.0</td>\n",
       "      <td>0.0</td>\n",
       "      <td>1.0</td>\n",
       "      <td>0.0</td>\n",
       "      <td>Afghanistan</td>\n",
       "      <td>2020-02-26</td>\n",
       "      <td>0.0</td>\n",
       "      <td>5.0</td>\n",
       "      <td>133.0</td>\n",
       "      <td>154.0</td>\n",
       "      <td>112.0</td>\n",
       "    </tr>\n",
       "    <tr>\n",
       "      <th>3</th>\n",
       "      <td>0.0</td>\n",
       "      <td>0.0</td>\n",
       "      <td>0.0</td>\n",
       "      <td>0.0</td>\n",
       "      <td>0.0</td>\n",
       "      <td>0.0</td>\n",
       "      <td>0.0</td>\n",
       "      <td>1.0</td>\n",
       "      <td>0.0</td>\n",
       "      <td>Afghanistan</td>\n",
       "      <td>2020-02-27</td>\n",
       "      <td>0.0</td>\n",
       "      <td>5.0</td>\n",
       "      <td>133.0</td>\n",
       "      <td>154.0</td>\n",
       "      <td>112.0</td>\n",
       "    </tr>\n",
       "    <tr>\n",
       "      <th>4</th>\n",
       "      <td>0.0</td>\n",
       "      <td>0.0</td>\n",
       "      <td>0.0</td>\n",
       "      <td>0.0</td>\n",
       "      <td>0.0</td>\n",
       "      <td>0.0</td>\n",
       "      <td>0.0</td>\n",
       "      <td>1.0</td>\n",
       "      <td>0.0</td>\n",
       "      <td>Afghanistan</td>\n",
       "      <td>2020-02-28</td>\n",
       "      <td>0.0</td>\n",
       "      <td>5.0</td>\n",
       "      <td>133.0</td>\n",
       "      <td>154.0</td>\n",
       "      <td>112.0</td>\n",
       "    </tr>\n",
       "    <tr>\n",
       "      <th>...</th>\n",
       "      <td>...</td>\n",
       "      <td>...</td>\n",
       "      <td>...</td>\n",
       "      <td>...</td>\n",
       "      <td>...</td>\n",
       "      <td>...</td>\n",
       "      <td>...</td>\n",
       "      <td>...</td>\n",
       "      <td>...</td>\n",
       "      <td>...</td>\n",
       "      <td>...</td>\n",
       "      <td>...</td>\n",
       "      <td>...</td>\n",
       "      <td>...</td>\n",
       "      <td>...</td>\n",
       "      <td>...</td>\n",
       "    </tr>\n",
       "    <tr>\n",
       "      <th>26177</th>\n",
       "      <td>0.0</td>\n",
       "      <td>0.0</td>\n",
       "      <td>0.0</td>\n",
       "      <td>0.0</td>\n",
       "      <td>0.0</td>\n",
       "      <td>0.0</td>\n",
       "      <td>0.0</td>\n",
       "      <td>0.0</td>\n",
       "      <td>311.0</td>\n",
       "      <td>SE</td>\n",
       "      <td>2020-08-02</td>\n",
       "      <td>17.0</td>\n",
       "      <td>4.0</td>\n",
       "      <td>139.0</td>\n",
       "      <td>192.0</td>\n",
       "      <td>86.0</td>\n",
       "    </tr>\n",
       "    <tr>\n",
       "      <th>26178</th>\n",
       "      <td>0.0</td>\n",
       "      <td>0.0</td>\n",
       "      <td>0.0</td>\n",
       "      <td>0.0</td>\n",
       "      <td>0.0</td>\n",
       "      <td>0.0</td>\n",
       "      <td>0.0</td>\n",
       "      <td>0.0</td>\n",
       "      <td>444.0</td>\n",
       "      <td>SE</td>\n",
       "      <td>2020-08-03</td>\n",
       "      <td>24.0</td>\n",
       "      <td>4.0</td>\n",
       "      <td>139.0</td>\n",
       "      <td>192.0</td>\n",
       "      <td>86.0</td>\n",
       "    </tr>\n",
       "    <tr>\n",
       "      <th>26179</th>\n",
       "      <td>0.0</td>\n",
       "      <td>0.0</td>\n",
       "      <td>0.0</td>\n",
       "      <td>0.0</td>\n",
       "      <td>0.0</td>\n",
       "      <td>0.0</td>\n",
       "      <td>0.0</td>\n",
       "      <td>0.0</td>\n",
       "      <td>590.0</td>\n",
       "      <td>SE</td>\n",
       "      <td>2020-08-04</td>\n",
       "      <td>20.0</td>\n",
       "      <td>4.0</td>\n",
       "      <td>139.0</td>\n",
       "      <td>192.0</td>\n",
       "      <td>86.0</td>\n",
       "    </tr>\n",
       "    <tr>\n",
       "      <th>26180</th>\n",
       "      <td>0.0</td>\n",
       "      <td>0.0</td>\n",
       "      <td>0.0</td>\n",
       "      <td>0.0</td>\n",
       "      <td>0.0</td>\n",
       "      <td>0.0</td>\n",
       "      <td>0.0</td>\n",
       "      <td>0.0</td>\n",
       "      <td>917.0</td>\n",
       "      <td>SE</td>\n",
       "      <td>2020-08-05</td>\n",
       "      <td>16.0</td>\n",
       "      <td>4.0</td>\n",
       "      <td>139.0</td>\n",
       "      <td>192.0</td>\n",
       "      <td>86.0</td>\n",
       "    </tr>\n",
       "    <tr>\n",
       "      <th>26181</th>\n",
       "      <td>0.0</td>\n",
       "      <td>0.0</td>\n",
       "      <td>0.0</td>\n",
       "      <td>0.0</td>\n",
       "      <td>0.0</td>\n",
       "      <td>0.0</td>\n",
       "      <td>0.0</td>\n",
       "      <td>0.0</td>\n",
       "      <td>858.0</td>\n",
       "      <td>SE</td>\n",
       "      <td>2020-08-06</td>\n",
       "      <td>12.0</td>\n",
       "      <td>4.0</td>\n",
       "      <td>139.0</td>\n",
       "      <td>192.0</td>\n",
       "      <td>86.0</td>\n",
       "    </tr>\n",
       "  </tbody>\n",
       "</table>\n",
       "<p>26182 rows × 16 columns</p>\n",
       "</div>"
      ],
      "text/plain": [
       "        C1   C2   C3   C4   C5   C6   C7   C8  Confirmed Country/Region  \\\n",
       "0      0.0  0.0  0.0  0.0  0.0  0.0  0.0  1.0        1.0    Afghanistan   \n",
       "1      0.0  0.0  0.0  0.0  0.0  0.0  0.0  1.0        0.0    Afghanistan   \n",
       "2      0.0  0.0  0.0  0.0  0.0  0.0  0.0  1.0        0.0    Afghanistan   \n",
       "3      0.0  0.0  0.0  0.0  0.0  0.0  0.0  1.0        0.0    Afghanistan   \n",
       "4      0.0  0.0  0.0  0.0  0.0  0.0  0.0  1.0        0.0    Afghanistan   \n",
       "...    ...  ...  ...  ...  ...  ...  ...  ...        ...            ...   \n",
       "26177  0.0  0.0  0.0  0.0  0.0  0.0  0.0  0.0      311.0             SE   \n",
       "26178  0.0  0.0  0.0  0.0  0.0  0.0  0.0  0.0      444.0             SE   \n",
       "26179  0.0  0.0  0.0  0.0  0.0  0.0  0.0  0.0      590.0             SE   \n",
       "26180  0.0  0.0  0.0  0.0  0.0  0.0  0.0  0.0      917.0             SE   \n",
       "26181  0.0  0.0  0.0  0.0  0.0  0.0  0.0  0.0      858.0             SE   \n",
       "\n",
       "            Date  Deaths  estagio   peak  postinflex  preinflex  \n",
       "0     2020-02-24     0.0      5.0  133.0       154.0      112.0  \n",
       "1     2020-02-25     0.0      5.0  133.0       154.0      112.0  \n",
       "2     2020-02-26     0.0      5.0  133.0       154.0      112.0  \n",
       "3     2020-02-27     0.0      5.0  133.0       154.0      112.0  \n",
       "4     2020-02-28     0.0      5.0  133.0       154.0      112.0  \n",
       "...          ...     ...      ...    ...         ...        ...  \n",
       "26177 2020-08-02    17.0      4.0  139.0       192.0       86.0  \n",
       "26178 2020-08-03    24.0      4.0  139.0       192.0       86.0  \n",
       "26179 2020-08-04    20.0      4.0  139.0       192.0       86.0  \n",
       "26180 2020-08-05    16.0      4.0  139.0       192.0       86.0  \n",
       "26181 2020-08-06    12.0      4.0  139.0       192.0       86.0  \n",
       "\n",
       "[26182 rows x 16 columns]"
      ]
     },
     "execution_count": 4,
     "metadata": {},
     "output_type": "execute_result"
    }
   ],
   "source": [
    "display(Markdown('<h4>' + \"NOMES DOS ATRIBUTOS E O SEUS PRIMEIROS VALORES\"+ '</h4>'))\n",
    "\n",
    "dados['Date'] = dados['Date'].apply(lambda x: dt.datetime.strptime(x,'%m/%d/%Y'))\n",
    "dados"
   ]
  },
  {
   "cell_type": "markdown",
   "metadata": {},
   "source": [
    "#### VERIFICANDO A QUANTIDADE DE DADOS FALTANTES"
   ]
  },
  {
   "cell_type": "code",
   "execution_count": 5,
   "metadata": {},
   "outputs": [
    {
     "data": {
      "text/plain": [
       "C1                0\n",
       "C2                0\n",
       "C3                0\n",
       "C4                0\n",
       "C5                0\n",
       "C6                0\n",
       "C7                0\n",
       "C8                0\n",
       "Confirmed         0\n",
       "Country/Region    0\n",
       "Date              0\n",
       "Deaths            0\n",
       "estagio           0\n",
       "peak              0\n",
       "postinflex        0\n",
       "preinflex         0\n",
       "dtype: int64"
      ]
     },
     "execution_count": 5,
     "metadata": {},
     "output_type": "execute_result"
    }
   ],
   "source": [
    "dados.isnull().sum()"
   ]
  },
  {
   "cell_type": "markdown",
   "metadata": {},
   "source": [
    "#### ORGANIZANDO OS DADOS PELA DATA E REGIÃO"
   ]
  },
  {
   "cell_type": "code",
   "execution_count": 6,
   "metadata": {},
   "outputs": [],
   "source": [
    "# ORGANIZANDO OS DADOS PELA DATA E REGIÃO\n",
    "dados = dados.sort_values(by=[\"Country/Region\",\"Date\"])\n",
    "# RETIRADA DOS PERÍODOS SEM INFORMAÇÃO DE CONTÁGIO\n",
    "dados = dados[dados['Confirmed'].notna()].reset_index(drop=True)\n",
    "# INPUTA O TEMPO DE CONTÁGIO NA COLUNA \"TIME\"\n",
    "dados = input_periodo_de_contagio(dados)"
   ]
  },
  {
   "cell_type": "markdown",
   "metadata": {},
   "source": [
    "#### REMOÇÃO DE PAÍSES COM POUCO REGISTRO DE ÓBITOS"
   ]
  },
  {
   "cell_type": "code",
   "execution_count": 7,
   "metadata": {},
   "outputs": [],
   "source": [
    "filtro_regiao = dados[['Country/Region','Confirmed',\"Deaths\"]].groupby(['Country/Region']).sum().sort_values(by=[\"Deaths\"],ascending=False)\n",
    "intervalo = (filtro_regiao['Deaths'] >= 50 )\n",
    "excluidos = filtro_regiao.loc[intervalo]\n",
    "excluidos = excluidos.reset_index()\n",
    "lista_excluidos = list(excluidos[\"Country/Region\"])\n",
    "intervalo = dados['Country/Region'].isin(lista_excluidos)\n",
    "dados_confiaveis = dados.loc[intervalo]\n",
    "dados_confiaveis = dados_confiaveis.reset_index(drop = True)"
   ]
  },
  {
   "cell_type": "markdown",
   "metadata": {},
   "source": [
    "#### REMOÇÃO DE PAÍSES COM  DADOS NÃO CONFIÁVEIS"
   ]
  },
  {
   "cell_type": "code",
   "execution_count": 8,
   "metadata": {},
   "outputs": [
    {
     "data": {
      "text/html": [
       "<div>\n",
       "<style scoped>\n",
       "    .dataframe tbody tr th:only-of-type {\n",
       "        vertical-align: middle;\n",
       "    }\n",
       "\n",
       "    .dataframe tbody tr th {\n",
       "        vertical-align: top;\n",
       "    }\n",
       "\n",
       "    .dataframe thead th {\n",
       "        text-align: right;\n",
       "    }\n",
       "</style>\n",
       "<table border=\"1\" class=\"dataframe\">\n",
       "  <thead>\n",
       "    <tr style=\"text-align: right;\">\n",
       "      <th></th>\n",
       "      <th>C1</th>\n",
       "      <th>C2</th>\n",
       "      <th>Time</th>\n",
       "      <th>C3</th>\n",
       "      <th>C4</th>\n",
       "      <th>C5</th>\n",
       "      <th>C6</th>\n",
       "      <th>C7</th>\n",
       "      <th>C8</th>\n",
       "      <th>Confirmed</th>\n",
       "      <th>Country/Region</th>\n",
       "      <th>Date</th>\n",
       "      <th>Deaths</th>\n",
       "      <th>estagio</th>\n",
       "      <th>peak</th>\n",
       "      <th>postinflex</th>\n",
       "      <th>preinflex</th>\n",
       "    </tr>\n",
       "  </thead>\n",
       "  <tbody>\n",
       "    <tr>\n",
       "      <th>0</th>\n",
       "      <td>0.0</td>\n",
       "      <td>0.0</td>\n",
       "      <td>1</td>\n",
       "      <td>0.0</td>\n",
       "      <td>1.0</td>\n",
       "      <td>0.0</td>\n",
       "      <td>0.0</td>\n",
       "      <td>0.0</td>\n",
       "      <td>0.0</td>\n",
       "      <td>3.0</td>\n",
       "      <td>AC</td>\n",
       "      <td>2020-03-19</td>\n",
       "      <td>0.0</td>\n",
       "      <td>5.0</td>\n",
       "      <td>93.0</td>\n",
       "      <td>136.0</td>\n",
       "      <td>50.0</td>\n",
       "    </tr>\n",
       "    <tr>\n",
       "      <th>1</th>\n",
       "      <td>0.0</td>\n",
       "      <td>1.0</td>\n",
       "      <td>2</td>\n",
       "      <td>1.0</td>\n",
       "      <td>1.0</td>\n",
       "      <td>1.0</td>\n",
       "      <td>0.0</td>\n",
       "      <td>1.0</td>\n",
       "      <td>1.0</td>\n",
       "      <td>4.0</td>\n",
       "      <td>AC</td>\n",
       "      <td>2020-03-20</td>\n",
       "      <td>0.0</td>\n",
       "      <td>5.0</td>\n",
       "      <td>93.0</td>\n",
       "      <td>136.0</td>\n",
       "      <td>50.0</td>\n",
       "    </tr>\n",
       "    <tr>\n",
       "      <th>2</th>\n",
       "      <td>0.0</td>\n",
       "      <td>1.0</td>\n",
       "      <td>3</td>\n",
       "      <td>1.0</td>\n",
       "      <td>1.0</td>\n",
       "      <td>1.0</td>\n",
       "      <td>0.0</td>\n",
       "      <td>1.0</td>\n",
       "      <td>1.0</td>\n",
       "      <td>2.0</td>\n",
       "      <td>AC</td>\n",
       "      <td>2020-03-21</td>\n",
       "      <td>0.0</td>\n",
       "      <td>5.0</td>\n",
       "      <td>93.0</td>\n",
       "      <td>136.0</td>\n",
       "      <td>50.0</td>\n",
       "    </tr>\n",
       "    <tr>\n",
       "      <th>3</th>\n",
       "      <td>0.0</td>\n",
       "      <td>1.0</td>\n",
       "      <td>4</td>\n",
       "      <td>1.0</td>\n",
       "      <td>1.0</td>\n",
       "      <td>1.0</td>\n",
       "      <td>0.0</td>\n",
       "      <td>1.0</td>\n",
       "      <td>1.0</td>\n",
       "      <td>2.0</td>\n",
       "      <td>AC</td>\n",
       "      <td>2020-03-22</td>\n",
       "      <td>0.0</td>\n",
       "      <td>5.0</td>\n",
       "      <td>93.0</td>\n",
       "      <td>136.0</td>\n",
       "      <td>50.0</td>\n",
       "    </tr>\n",
       "    <tr>\n",
       "      <th>4</th>\n",
       "      <td>0.0</td>\n",
       "      <td>1.0</td>\n",
       "      <td>5</td>\n",
       "      <td>1.0</td>\n",
       "      <td>1.0</td>\n",
       "      <td>1.0</td>\n",
       "      <td>0.0</td>\n",
       "      <td>1.0</td>\n",
       "      <td>1.0</td>\n",
       "      <td>0.0</td>\n",
       "      <td>AC</td>\n",
       "      <td>2020-03-23</td>\n",
       "      <td>0.0</td>\n",
       "      <td>5.0</td>\n",
       "      <td>93.0</td>\n",
       "      <td>136.0</td>\n",
       "      <td>50.0</td>\n",
       "    </tr>\n",
       "    <tr>\n",
       "      <th>...</th>\n",
       "      <td>...</td>\n",
       "      <td>...</td>\n",
       "      <td>...</td>\n",
       "      <td>...</td>\n",
       "      <td>...</td>\n",
       "      <td>...</td>\n",
       "      <td>...</td>\n",
       "      <td>...</td>\n",
       "      <td>...</td>\n",
       "      <td>...</td>\n",
       "      <td>...</td>\n",
       "      <td>...</td>\n",
       "      <td>...</td>\n",
       "      <td>...</td>\n",
       "      <td>...</td>\n",
       "      <td>...</td>\n",
       "      <td>...</td>\n",
       "    </tr>\n",
       "    <tr>\n",
       "      <th>18707</th>\n",
       "      <td>1.0</td>\n",
       "      <td>1.0</td>\n",
       "      <td>108</td>\n",
       "      <td>0.0</td>\n",
       "      <td>0.0</td>\n",
       "      <td>0.0</td>\n",
       "      <td>0.0</td>\n",
       "      <td>0.0</td>\n",
       "      <td>1.0</td>\n",
       "      <td>7.0</td>\n",
       "      <td>Yemen</td>\n",
       "      <td>2020-07-26</td>\n",
       "      <td>5.0</td>\n",
       "      <td>1.0</td>\n",
       "      <td>149.0</td>\n",
       "      <td>173.0</td>\n",
       "      <td>124.0</td>\n",
       "    </tr>\n",
       "    <tr>\n",
       "      <th>18708</th>\n",
       "      <td>1.0</td>\n",
       "      <td>1.0</td>\n",
       "      <td>109</td>\n",
       "      <td>0.0</td>\n",
       "      <td>0.0</td>\n",
       "      <td>0.0</td>\n",
       "      <td>0.0</td>\n",
       "      <td>0.0</td>\n",
       "      <td>1.0</td>\n",
       "      <td>10.0</td>\n",
       "      <td>Yemen</td>\n",
       "      <td>2020-07-27</td>\n",
       "      <td>4.0</td>\n",
       "      <td>1.0</td>\n",
       "      <td>149.0</td>\n",
       "      <td>173.0</td>\n",
       "      <td>124.0</td>\n",
       "    </tr>\n",
       "    <tr>\n",
       "      <th>18709</th>\n",
       "      <td>1.0</td>\n",
       "      <td>1.0</td>\n",
       "      <td>110</td>\n",
       "      <td>0.0</td>\n",
       "      <td>0.0</td>\n",
       "      <td>0.0</td>\n",
       "      <td>0.0</td>\n",
       "      <td>0.0</td>\n",
       "      <td>1.0</td>\n",
       "      <td>12.0</td>\n",
       "      <td>Yemen</td>\n",
       "      <td>2020-07-28</td>\n",
       "      <td>1.0</td>\n",
       "      <td>1.0</td>\n",
       "      <td>149.0</td>\n",
       "      <td>173.0</td>\n",
       "      <td>124.0</td>\n",
       "    </tr>\n",
       "    <tr>\n",
       "      <th>18710</th>\n",
       "      <td>1.0</td>\n",
       "      <td>1.0</td>\n",
       "      <td>111</td>\n",
       "      <td>0.0</td>\n",
       "      <td>0.0</td>\n",
       "      <td>0.0</td>\n",
       "      <td>0.0</td>\n",
       "      <td>0.0</td>\n",
       "      <td>1.0</td>\n",
       "      <td>8.0</td>\n",
       "      <td>Yemen</td>\n",
       "      <td>2020-07-29</td>\n",
       "      <td>1.0</td>\n",
       "      <td>1.0</td>\n",
       "      <td>149.0</td>\n",
       "      <td>173.0</td>\n",
       "      <td>124.0</td>\n",
       "    </tr>\n",
       "    <tr>\n",
       "      <th>18711</th>\n",
       "      <td>1.0</td>\n",
       "      <td>1.0</td>\n",
       "      <td>112</td>\n",
       "      <td>0.0</td>\n",
       "      <td>0.0</td>\n",
       "      <td>0.0</td>\n",
       "      <td>0.0</td>\n",
       "      <td>0.0</td>\n",
       "      <td>1.0</td>\n",
       "      <td>15.0</td>\n",
       "      <td>Yemen</td>\n",
       "      <td>2020-07-30</td>\n",
       "      <td>2.0</td>\n",
       "      <td>1.0</td>\n",
       "      <td>149.0</td>\n",
       "      <td>173.0</td>\n",
       "      <td>124.0</td>\n",
       "    </tr>\n",
       "  </tbody>\n",
       "</table>\n",
       "<p>18284 rows × 17 columns</p>\n",
       "</div>"
      ],
      "text/plain": [
       "        C1   C2  Time   C3   C4   C5   C6   C7   C8  Confirmed Country/Region  \\\n",
       "0      0.0  0.0     1  0.0  1.0  0.0  0.0  0.0  0.0        3.0             AC   \n",
       "1      0.0  1.0     2  1.0  1.0  1.0  0.0  1.0  1.0        4.0             AC   \n",
       "2      0.0  1.0     3  1.0  1.0  1.0  0.0  1.0  1.0        2.0             AC   \n",
       "3      0.0  1.0     4  1.0  1.0  1.0  0.0  1.0  1.0        2.0             AC   \n",
       "4      0.0  1.0     5  1.0  1.0  1.0  0.0  1.0  1.0        0.0             AC   \n",
       "...    ...  ...   ...  ...  ...  ...  ...  ...  ...        ...            ...   \n",
       "18707  1.0  1.0   108  0.0  0.0  0.0  0.0  0.0  1.0        7.0          Yemen   \n",
       "18708  1.0  1.0   109  0.0  0.0  0.0  0.0  0.0  1.0       10.0          Yemen   \n",
       "18709  1.0  1.0   110  0.0  0.0  0.0  0.0  0.0  1.0       12.0          Yemen   \n",
       "18710  1.0  1.0   111  0.0  0.0  0.0  0.0  0.0  1.0        8.0          Yemen   \n",
       "18711  1.0  1.0   112  0.0  0.0  0.0  0.0  0.0  1.0       15.0          Yemen   \n",
       "\n",
       "            Date  Deaths  estagio   peak  postinflex  preinflex  \n",
       "0     2020-03-19     0.0      5.0   93.0       136.0       50.0  \n",
       "1     2020-03-20     0.0      5.0   93.0       136.0       50.0  \n",
       "2     2020-03-21     0.0      5.0   93.0       136.0       50.0  \n",
       "3     2020-03-22     0.0      5.0   93.0       136.0       50.0  \n",
       "4     2020-03-23     0.0      5.0   93.0       136.0       50.0  \n",
       "...          ...     ...      ...    ...         ...        ...  \n",
       "18707 2020-07-26     5.0      1.0  149.0       173.0      124.0  \n",
       "18708 2020-07-27     4.0      1.0  149.0       173.0      124.0  \n",
       "18709 2020-07-28     1.0      1.0  149.0       173.0      124.0  \n",
       "18710 2020-07-29     1.0      1.0  149.0       173.0      124.0  \n",
       "18711 2020-07-30     2.0      1.0  149.0       173.0      124.0  \n",
       "\n",
       "[18284 rows x 17 columns]"
      ]
     },
     "execution_count": 8,
     "metadata": {},
     "output_type": "execute_result"
    }
   ],
   "source": [
    "lista_baixa_confiabilidade = [\"Cameroon\",\"Kazakhstan\",\"Kyrgyzstan\",\"Zambia\"]\n",
    "intervalo = dados_confiaveis['Country/Region'].isin(lista_baixa_confiabilidade) == False\n",
    "dados_confiaveis = dados_confiaveis.loc[intervalo]\n",
    "dados_confiaveis"
   ]
  },
  {
   "cell_type": "markdown",
   "metadata": {},
   "source": [
    "#### EXCLUINDO OS PAÍSES DOS QUAIS NÃO POSSUEM A CONTRAMEDIA C1"
   ]
  },
  {
   "cell_type": "code",
   "execution_count": 9,
   "metadata": {},
   "outputs": [],
   "source": [
    "dados_confiaveis_filtro1 = drop_country(dados_confiaveis,[\"C1\",\"C2\",\"C3\",\"C4\",\"C5\",\"C6\",\"C7\",\"C8\"])"
   ]
  },
  {
   "cell_type": "markdown",
   "metadata": {},
   "source": [
    "#### REGIÕES QUE APLICARAM AS CONTRAMEDIDAS  (UTILIZADOS PARA O TREINAMENTO)"
   ]
  },
  {
   "cell_type": "code",
   "execution_count": 10,
   "metadata": {},
   "outputs": [
    {
     "data": {
      "text/plain": [
       "['AC',\n",
       " 'AL',\n",
       " 'Afghanistan',\n",
       " 'Albania',\n",
       " 'Algeria',\n",
       " 'Andorra',\n",
       " 'Argentina',\n",
       " 'Australia',\n",
       " 'Austria',\n",
       " 'Azerbaijan',\n",
       " 'BA',\n",
       " 'Bahrain',\n",
       " 'Bangladesh',\n",
       " 'Belarus',\n",
       " 'Belgium',\n",
       " 'Bolivia',\n",
       " 'Bosnia and Herzegovina',\n",
       " 'Brazil',\n",
       " 'Bulgaria',\n",
       " 'Burkina Faso',\n",
       " 'Canada',\n",
       " 'Central African Republic',\n",
       " 'Chad',\n",
       " 'Chile',\n",
       " 'China',\n",
       " 'Colombia',\n",
       " 'Congo (Brazzaville)',\n",
       " 'Congo (Kinshasa)',\n",
       " 'Costa Rica',\n",
       " \"Cote d'Ivoire\",\n",
       " 'Croatia',\n",
       " 'Cuba',\n",
       " 'Denmark',\n",
       " 'Djibouti',\n",
       " 'Dominican Republic',\n",
       " 'ES',\n",
       " 'Ecuador',\n",
       " 'Egypt',\n",
       " 'El Salvador',\n",
       " 'Estonia',\n",
       " 'Ethiopia',\n",
       " 'Finland',\n",
       " 'France',\n",
       " 'Gabon',\n",
       " 'Germany',\n",
       " 'Ghana',\n",
       " 'Greece',\n",
       " 'Guatemala',\n",
       " 'Haiti',\n",
       " 'Honduras',\n",
       " 'Hungary',\n",
       " 'India',\n",
       " 'Indonesia',\n",
       " 'Iran',\n",
       " 'Iraq',\n",
       " 'Ireland',\n",
       " 'Israel',\n",
       " 'Italy',\n",
       " 'Japan',\n",
       " 'Kenya',\n",
       " 'Kosovo',\n",
       " 'Kuwait',\n",
       " 'Liberia',\n",
       " 'Libya',\n",
       " 'Lithuania',\n",
       " 'Luxembourg',\n",
       " 'Madagascar',\n",
       " 'Malawi',\n",
       " 'Malaysia',\n",
       " 'Mali',\n",
       " 'Mauritania',\n",
       " 'Mexico',\n",
       " 'Moldova',\n",
       " 'Morocco',\n",
       " 'Netherlands',\n",
       " 'Nicaragua',\n",
       " 'Niger',\n",
       " 'Nigeria',\n",
       " 'Norway',\n",
       " 'Oman',\n",
       " 'PB',\n",
       " 'PI',\n",
       " 'Pakistan',\n",
       " 'Panama',\n",
       " 'Peru',\n",
       " 'Philippines',\n",
       " 'Poland',\n",
       " 'Portugal',\n",
       " 'Qatar',\n",
       " 'RJ',\n",
       " 'RN',\n",
       " 'RO',\n",
       " 'RR',\n",
       " 'RS',\n",
       " 'Romania',\n",
       " 'Russia',\n",
       " 'SE',\n",
       " 'Saudi Arabia',\n",
       " 'Senegal',\n",
       " 'Serbia',\n",
       " 'Sierra Leone',\n",
       " 'Slovenia',\n",
       " 'Somalia',\n",
       " 'South Africa',\n",
       " 'South Korea',\n",
       " 'Spain',\n",
       " 'Sudan',\n",
       " 'Sweden',\n",
       " 'Switzerland',\n",
       " 'Tajikistan',\n",
       " 'Thailand',\n",
       " 'Tunisia',\n",
       " 'Turkey',\n",
       " 'Ukraine',\n",
       " 'United Arab Emirates',\n",
       " 'United Kingdom',\n",
       " 'United States',\n",
       " 'Uzbekistan',\n",
       " 'Venezuela',\n",
       " 'Yemen']"
      ]
     },
     "execution_count": 10,
     "metadata": {},
     "output_type": "execute_result"
    }
   ],
   "source": [
    "lista_de_regioes = list(dados_confiaveis_filtro1[\"Country/Region\"].unique())\n",
    "lista_de_regioes"
   ]
  },
  {
   "cell_type": "code",
   "execution_count": 11,
   "metadata": {
    "scrolled": true
   },
   "outputs": [
    {
     "data": {
      "text/html": [
       "<div>\n",
       "<style scoped>\n",
       "    .dataframe tbody tr th:only-of-type {\n",
       "        vertical-align: middle;\n",
       "    }\n",
       "\n",
       "    .dataframe tbody tr th {\n",
       "        vertical-align: top;\n",
       "    }\n",
       "\n",
       "    .dataframe thead th {\n",
       "        text-align: right;\n",
       "    }\n",
       "</style>\n",
       "<table border=\"1\" class=\"dataframe\">\n",
       "  <thead>\n",
       "    <tr style=\"text-align: right;\">\n",
       "      <th></th>\n",
       "      <th>C1</th>\n",
       "      <th>C2</th>\n",
       "      <th>Time</th>\n",
       "      <th>C3</th>\n",
       "      <th>C4</th>\n",
       "      <th>C5</th>\n",
       "      <th>C6</th>\n",
       "      <th>C7</th>\n",
       "      <th>C8</th>\n",
       "      <th>Confirmed</th>\n",
       "      <th>Country/Region</th>\n",
       "      <th>Date</th>\n",
       "      <th>Deaths</th>\n",
       "      <th>estagio</th>\n",
       "      <th>peak</th>\n",
       "      <th>postinflex</th>\n",
       "      <th>preinflex</th>\n",
       "    </tr>\n",
       "  </thead>\n",
       "  <tbody>\n",
       "    <tr>\n",
       "      <th>0</th>\n",
       "      <td>0.0</td>\n",
       "      <td>0.0</td>\n",
       "      <td>1</td>\n",
       "      <td>0.0</td>\n",
       "      <td>1.0</td>\n",
       "      <td>0.0</td>\n",
       "      <td>0.0</td>\n",
       "      <td>0.0</td>\n",
       "      <td>0.0</td>\n",
       "      <td>3.0</td>\n",
       "      <td>AC</td>\n",
       "      <td>2020-03-19</td>\n",
       "      <td>0.0</td>\n",
       "      <td>5.0</td>\n",
       "      <td>93.0</td>\n",
       "      <td>136.0</td>\n",
       "      <td>50.0</td>\n",
       "    </tr>\n",
       "    <tr>\n",
       "      <th>1</th>\n",
       "      <td>0.0</td>\n",
       "      <td>1.0</td>\n",
       "      <td>2</td>\n",
       "      <td>1.0</td>\n",
       "      <td>1.0</td>\n",
       "      <td>1.0</td>\n",
       "      <td>0.0</td>\n",
       "      <td>1.0</td>\n",
       "      <td>1.0</td>\n",
       "      <td>4.0</td>\n",
       "      <td>AC</td>\n",
       "      <td>2020-03-20</td>\n",
       "      <td>0.0</td>\n",
       "      <td>5.0</td>\n",
       "      <td>93.0</td>\n",
       "      <td>136.0</td>\n",
       "      <td>50.0</td>\n",
       "    </tr>\n",
       "    <tr>\n",
       "      <th>2</th>\n",
       "      <td>0.0</td>\n",
       "      <td>1.0</td>\n",
       "      <td>3</td>\n",
       "      <td>1.0</td>\n",
       "      <td>1.0</td>\n",
       "      <td>1.0</td>\n",
       "      <td>0.0</td>\n",
       "      <td>1.0</td>\n",
       "      <td>1.0</td>\n",
       "      <td>2.0</td>\n",
       "      <td>AC</td>\n",
       "      <td>2020-03-21</td>\n",
       "      <td>0.0</td>\n",
       "      <td>5.0</td>\n",
       "      <td>93.0</td>\n",
       "      <td>136.0</td>\n",
       "      <td>50.0</td>\n",
       "    </tr>\n",
       "    <tr>\n",
       "      <th>3</th>\n",
       "      <td>0.0</td>\n",
       "      <td>1.0</td>\n",
       "      <td>4</td>\n",
       "      <td>1.0</td>\n",
       "      <td>1.0</td>\n",
       "      <td>1.0</td>\n",
       "      <td>0.0</td>\n",
       "      <td>1.0</td>\n",
       "      <td>1.0</td>\n",
       "      <td>2.0</td>\n",
       "      <td>AC</td>\n",
       "      <td>2020-03-22</td>\n",
       "      <td>0.0</td>\n",
       "      <td>5.0</td>\n",
       "      <td>93.0</td>\n",
       "      <td>136.0</td>\n",
       "      <td>50.0</td>\n",
       "    </tr>\n",
       "    <tr>\n",
       "      <th>4</th>\n",
       "      <td>0.0</td>\n",
       "      <td>1.0</td>\n",
       "      <td>5</td>\n",
       "      <td>1.0</td>\n",
       "      <td>1.0</td>\n",
       "      <td>1.0</td>\n",
       "      <td>0.0</td>\n",
       "      <td>1.0</td>\n",
       "      <td>1.0</td>\n",
       "      <td>0.0</td>\n",
       "      <td>AC</td>\n",
       "      <td>2020-03-23</td>\n",
       "      <td>0.0</td>\n",
       "      <td>5.0</td>\n",
       "      <td>93.0</td>\n",
       "      <td>136.0</td>\n",
       "      <td>50.0</td>\n",
       "    </tr>\n",
       "    <tr>\n",
       "      <th>...</th>\n",
       "      <td>...</td>\n",
       "      <td>...</td>\n",
       "      <td>...</td>\n",
       "      <td>...</td>\n",
       "      <td>...</td>\n",
       "      <td>...</td>\n",
       "      <td>...</td>\n",
       "      <td>...</td>\n",
       "      <td>...</td>\n",
       "      <td>...</td>\n",
       "      <td>...</td>\n",
       "      <td>...</td>\n",
       "      <td>...</td>\n",
       "      <td>...</td>\n",
       "      <td>...</td>\n",
       "      <td>...</td>\n",
       "      <td>...</td>\n",
       "    </tr>\n",
       "    <tr>\n",
       "      <th>18707</th>\n",
       "      <td>1.0</td>\n",
       "      <td>1.0</td>\n",
       "      <td>108</td>\n",
       "      <td>0.0</td>\n",
       "      <td>0.0</td>\n",
       "      <td>0.0</td>\n",
       "      <td>0.0</td>\n",
       "      <td>0.0</td>\n",
       "      <td>1.0</td>\n",
       "      <td>7.0</td>\n",
       "      <td>Yemen</td>\n",
       "      <td>2020-07-26</td>\n",
       "      <td>5.0</td>\n",
       "      <td>1.0</td>\n",
       "      <td>149.0</td>\n",
       "      <td>173.0</td>\n",
       "      <td>124.0</td>\n",
       "    </tr>\n",
       "    <tr>\n",
       "      <th>18708</th>\n",
       "      <td>1.0</td>\n",
       "      <td>1.0</td>\n",
       "      <td>109</td>\n",
       "      <td>0.0</td>\n",
       "      <td>0.0</td>\n",
       "      <td>0.0</td>\n",
       "      <td>0.0</td>\n",
       "      <td>0.0</td>\n",
       "      <td>1.0</td>\n",
       "      <td>10.0</td>\n",
       "      <td>Yemen</td>\n",
       "      <td>2020-07-27</td>\n",
       "      <td>4.0</td>\n",
       "      <td>1.0</td>\n",
       "      <td>149.0</td>\n",
       "      <td>173.0</td>\n",
       "      <td>124.0</td>\n",
       "    </tr>\n",
       "    <tr>\n",
       "      <th>18709</th>\n",
       "      <td>1.0</td>\n",
       "      <td>1.0</td>\n",
       "      <td>110</td>\n",
       "      <td>0.0</td>\n",
       "      <td>0.0</td>\n",
       "      <td>0.0</td>\n",
       "      <td>0.0</td>\n",
       "      <td>0.0</td>\n",
       "      <td>1.0</td>\n",
       "      <td>12.0</td>\n",
       "      <td>Yemen</td>\n",
       "      <td>2020-07-28</td>\n",
       "      <td>1.0</td>\n",
       "      <td>1.0</td>\n",
       "      <td>149.0</td>\n",
       "      <td>173.0</td>\n",
       "      <td>124.0</td>\n",
       "    </tr>\n",
       "    <tr>\n",
       "      <th>18710</th>\n",
       "      <td>1.0</td>\n",
       "      <td>1.0</td>\n",
       "      <td>111</td>\n",
       "      <td>0.0</td>\n",
       "      <td>0.0</td>\n",
       "      <td>0.0</td>\n",
       "      <td>0.0</td>\n",
       "      <td>0.0</td>\n",
       "      <td>1.0</td>\n",
       "      <td>8.0</td>\n",
       "      <td>Yemen</td>\n",
       "      <td>2020-07-29</td>\n",
       "      <td>1.0</td>\n",
       "      <td>1.0</td>\n",
       "      <td>149.0</td>\n",
       "      <td>173.0</td>\n",
       "      <td>124.0</td>\n",
       "    </tr>\n",
       "    <tr>\n",
       "      <th>18711</th>\n",
       "      <td>1.0</td>\n",
       "      <td>1.0</td>\n",
       "      <td>112</td>\n",
       "      <td>0.0</td>\n",
       "      <td>0.0</td>\n",
       "      <td>0.0</td>\n",
       "      <td>0.0</td>\n",
       "      <td>0.0</td>\n",
       "      <td>1.0</td>\n",
       "      <td>15.0</td>\n",
       "      <td>Yemen</td>\n",
       "      <td>2020-07-30</td>\n",
       "      <td>2.0</td>\n",
       "      <td>1.0</td>\n",
       "      <td>149.0</td>\n",
       "      <td>173.0</td>\n",
       "      <td>124.0</td>\n",
       "    </tr>\n",
       "  </tbody>\n",
       "</table>\n",
       "<p>18284 rows × 17 columns</p>\n",
       "</div>"
      ],
      "text/plain": [
       "        C1   C2  Time   C3   C4   C5   C6   C7   C8  Confirmed Country/Region  \\\n",
       "0      0.0  0.0     1  0.0  1.0  0.0  0.0  0.0  0.0        3.0             AC   \n",
       "1      0.0  1.0     2  1.0  1.0  1.0  0.0  1.0  1.0        4.0             AC   \n",
       "2      0.0  1.0     3  1.0  1.0  1.0  0.0  1.0  1.0        2.0             AC   \n",
       "3      0.0  1.0     4  1.0  1.0  1.0  0.0  1.0  1.0        2.0             AC   \n",
       "4      0.0  1.0     5  1.0  1.0  1.0  0.0  1.0  1.0        0.0             AC   \n",
       "...    ...  ...   ...  ...  ...  ...  ...  ...  ...        ...            ...   \n",
       "18707  1.0  1.0   108  0.0  0.0  0.0  0.0  0.0  1.0        7.0          Yemen   \n",
       "18708  1.0  1.0   109  0.0  0.0  0.0  0.0  0.0  1.0       10.0          Yemen   \n",
       "18709  1.0  1.0   110  0.0  0.0  0.0  0.0  0.0  1.0       12.0          Yemen   \n",
       "18710  1.0  1.0   111  0.0  0.0  0.0  0.0  0.0  1.0        8.0          Yemen   \n",
       "18711  1.0  1.0   112  0.0  0.0  0.0  0.0  0.0  1.0       15.0          Yemen   \n",
       "\n",
       "            Date  Deaths  estagio   peak  postinflex  preinflex  \n",
       "0     2020-03-19     0.0      5.0   93.0       136.0       50.0  \n",
       "1     2020-03-20     0.0      5.0   93.0       136.0       50.0  \n",
       "2     2020-03-21     0.0      5.0   93.0       136.0       50.0  \n",
       "3     2020-03-22     0.0      5.0   93.0       136.0       50.0  \n",
       "4     2020-03-23     0.0      5.0   93.0       136.0       50.0  \n",
       "...          ...     ...      ...    ...         ...        ...  \n",
       "18707 2020-07-26     5.0      1.0  149.0       173.0      124.0  \n",
       "18708 2020-07-27     4.0      1.0  149.0       173.0      124.0  \n",
       "18709 2020-07-28     1.0      1.0  149.0       173.0      124.0  \n",
       "18710 2020-07-29     1.0      1.0  149.0       173.0      124.0  \n",
       "18711 2020-07-30     2.0      1.0  149.0       173.0      124.0  \n",
       "\n",
       "[18284 rows x 17 columns]"
      ]
     },
     "execution_count": 11,
     "metadata": {},
     "output_type": "execute_result"
    }
   ],
   "source": [
    "dados_confiaveis_filtro1"
   ]
  },
  {
   "cell_type": "markdown",
   "metadata": {},
   "source": [
    "## MULTIVARIEDADE"
   ]
  },
  {
   "cell_type": "markdown",
   "metadata": {},
   "source": [
    "#### LEITURA DO BANCO DE DADOS SINTÉTICO"
   ]
  },
  {
   "cell_type": "code",
   "execution_count": 12,
   "metadata": {},
   "outputs": [
    {
     "data": {
      "text/html": [
       "<div>\n",
       "<style scoped>\n",
       "    .dataframe tbody tr th:only-of-type {\n",
       "        vertical-align: middle;\n",
       "    }\n",
       "\n",
       "    .dataframe tbody tr th {\n",
       "        vertical-align: top;\n",
       "    }\n",
       "\n",
       "    .dataframe thead th {\n",
       "        text-align: right;\n",
       "    }\n",
       "</style>\n",
       "<table border=\"1\" class=\"dataframe\">\n",
       "  <thead>\n",
       "    <tr style=\"text-align: right;\">\n",
       "      <th></th>\n",
       "      <th>Data</th>\n",
       "      <th>ID</th>\n",
       "      <th>Time</th>\n",
       "      <th>Regiao de REF</th>\n",
       "      <th>Confirmed</th>\n",
       "    </tr>\n",
       "  </thead>\n",
       "  <tbody>\n",
       "    <tr>\n",
       "      <th>0</th>\n",
       "      <td>2020-03-19</td>\n",
       "      <td>1</td>\n",
       "      <td>1</td>\n",
       "      <td>AC</td>\n",
       "      <td>1.0</td>\n",
       "    </tr>\n",
       "    <tr>\n",
       "      <th>1</th>\n",
       "      <td>2020-03-20</td>\n",
       "      <td>1</td>\n",
       "      <td>2</td>\n",
       "      <td>AC</td>\n",
       "      <td>1.0</td>\n",
       "    </tr>\n",
       "    <tr>\n",
       "      <th>2</th>\n",
       "      <td>2020-03-21</td>\n",
       "      <td>1</td>\n",
       "      <td>3</td>\n",
       "      <td>AC</td>\n",
       "      <td>0.0</td>\n",
       "    </tr>\n",
       "    <tr>\n",
       "      <th>3</th>\n",
       "      <td>2020-03-22</td>\n",
       "      <td>1</td>\n",
       "      <td>4</td>\n",
       "      <td>AC</td>\n",
       "      <td>1.0</td>\n",
       "    </tr>\n",
       "    <tr>\n",
       "      <th>4</th>\n",
       "      <td>2020-03-23</td>\n",
       "      <td>1</td>\n",
       "      <td>5</td>\n",
       "      <td>AC</td>\n",
       "      <td>0.0</td>\n",
       "    </tr>\n",
       "    <tr>\n",
       "      <th>...</th>\n",
       "      <td>...</td>\n",
       "      <td>...</td>\n",
       "      <td>...</td>\n",
       "      <td>...</td>\n",
       "      <td>...</td>\n",
       "    </tr>\n",
       "    <tr>\n",
       "      <th>12001269</th>\n",
       "      <td>2020-10-19</td>\n",
       "      <td>52500</td>\n",
       "      <td>193</td>\n",
       "      <td>Yemen</td>\n",
       "      <td>0.0</td>\n",
       "    </tr>\n",
       "    <tr>\n",
       "      <th>12001270</th>\n",
       "      <td>2020-10-20</td>\n",
       "      <td>52500</td>\n",
       "      <td>194</td>\n",
       "      <td>Yemen</td>\n",
       "      <td>0.0</td>\n",
       "    </tr>\n",
       "    <tr>\n",
       "      <th>12001271</th>\n",
       "      <td>2020-10-21</td>\n",
       "      <td>52500</td>\n",
       "      <td>195</td>\n",
       "      <td>Yemen</td>\n",
       "      <td>0.0</td>\n",
       "    </tr>\n",
       "    <tr>\n",
       "      <th>12001272</th>\n",
       "      <td>2020-10-22</td>\n",
       "      <td>52500</td>\n",
       "      <td>196</td>\n",
       "      <td>Yemen</td>\n",
       "      <td>0.0</td>\n",
       "    </tr>\n",
       "    <tr>\n",
       "      <th>12001273</th>\n",
       "      <td>2020-10-23</td>\n",
       "      <td>52500</td>\n",
       "      <td>197</td>\n",
       "      <td>Yemen</td>\n",
       "      <td>0.0</td>\n",
       "    </tr>\n",
       "  </tbody>\n",
       "</table>\n",
       "<p>12001274 rows × 5 columns</p>\n",
       "</div>"
      ],
      "text/plain": [
       "                Data     ID  Time Regiao de REF  Confirmed\n",
       "0         2020-03-19      1     1            AC        1.0\n",
       "1         2020-03-20      1     2            AC        1.0\n",
       "2         2020-03-21      1     3            AC        0.0\n",
       "3         2020-03-22      1     4            AC        1.0\n",
       "4         2020-03-23      1     5            AC        0.0\n",
       "...              ...    ...   ...           ...        ...\n",
       "12001269  2020-10-19  52500   193         Yemen        0.0\n",
       "12001270  2020-10-20  52500   194         Yemen        0.0\n",
       "12001271  2020-10-21  52500   195         Yemen        0.0\n",
       "12001272  2020-10-22  52500   196         Yemen        0.0\n",
       "12001273  2020-10-23  52500   197         Yemen        0.0\n",
       "\n",
       "[12001274 rows x 5 columns]"
      ]
     },
     "execution_count": 12,
     "metadata": {},
     "output_type": "execute_result"
    }
   ],
   "source": [
    "nome_arquivo_analise = \"synthetic_datasets/Dados_Sinteticos_Casos_Confirmados.csv\"\n",
    "arquivo = os.path.abspath(nome_arquivo_analise)\n",
    "dados_sinteticos = pd.read_csv(arquivo,  sep=\",\" , decimal=\".\")\n",
    "dados_sinteticos"
   ]
  },
  {
   "cell_type": "code",
   "execution_count": 13,
   "metadata": {},
   "outputs": [],
   "source": [
    "numero_de_estimadores = 70000\n",
    "rate=0.4"
   ]
  },
  {
   "cell_type": "markdown",
   "metadata": {},
   "source": [
    "#### TREINAMENTO PARA INSERIR DADOS DE ÓBITO"
   ]
  },
  {
   "cell_type": "code",
   "execution_count": 14,
   "metadata": {},
   "outputs": [
    {
     "name": "stdout",
     "output_type": "stream",
     "text": [
      "(18284, 2)\n",
      "(18284,)\n",
      "      Iter       Train Loss   Remaining Time \n",
      "         1       13366.3138            7.40m\n",
      "         2        8804.2302            7.51m\n",
      "         3        7026.5093            7.47m\n",
      "         4        6212.8753            7.42m\n",
      "         5        5791.4204            7.40m\n",
      "         6        5557.5641            7.38m\n",
      "         7        5398.9710            7.43m\n",
      "         8        5292.1057            7.44m\n",
      "         9        5226.4221            7.43m\n",
      "        10        5190.9722            7.42m\n",
      "        20        4206.0271            7.38m\n",
      "        30        3956.9290            7.37m\n",
      "        40        3597.4987            7.38m\n",
      "        50        3347.1553            7.40m\n",
      "        60        2989.5411            7.41m\n",
      "        70        2805.2017            7.39m\n",
      "        80        2663.3698            7.40m\n",
      "        90        2485.5871            7.40m\n",
      "       100        2402.1004            7.40m\n",
      "       200        1646.7327            7.38m\n",
      "       300        1298.8265            7.35m\n",
      "       400        1039.5548            7.33m\n",
      "       500         867.8180            7.32m\n",
      "       600         732.6924            7.31m\n",
      "       700         645.4696            7.29m\n",
      "       800         586.5436            7.29m\n",
      "       900         527.2967            7.28m\n",
      "      1000         476.4501            7.27m\n",
      "      2000         239.4321            7.16m\n",
      "      3000         164.7840            7.05m\n",
      "      4000         126.0215            6.94m\n",
      "      5000         103.6074            6.83m\n",
      "      6000          89.8607            6.72m\n",
      "      7000          79.5028            6.62m\n",
      "      8000          72.1211            6.51m\n",
      "      9000          67.0650            6.40m\n",
      "     10000          63.1474            6.29m\n",
      "     20000          48.0626            5.24m\n",
      "     30000          44.6649            4.19m\n",
      "     40000          43.3200            3.14m\n",
      "     50000          42.6640            2.10m\n",
      "     60000          42.2816            1.05m\n",
      "     70000          42.0510            0.00s\n"
     ]
    },
    {
     "data": {
      "text/plain": [
       "0.9983338268780608"
      ]
     },
     "execution_count": 14,
     "metadata": {},
     "output_type": "execute_result"
    }
   ],
   "source": [
    "#### DIVISÃO PREDITORES E TARGET\n",
    "X = dados_confiaveis_filtro1.loc[:, [\"Time\",\"Confirmed\"]].values\n",
    "y = dados_confiaveis_filtro1.loc[:, \"Deaths\"].values\n",
    "\n",
    "print(X.shape)\n",
    "print(y.shape)\n",
    "\n",
    "#### GRADIENT BOOSTING REGRESSOR\n",
    "\n",
    "regressor_obito = GradientBoostingRegressor(n_estimators= numero_de_estimadores, learning_rate=rate, verbose=1)\n",
    "regressor_obito.fit(X,y)\n",
    "score = regressor_obito.score(X,y)\n",
    "score"
   ]
  },
  {
   "cell_type": "markdown",
   "metadata": {},
   "source": [
    "#### TREINAMENTO PARA INSERIR DADOS DE CONTIGÊNCIA C1"
   ]
  },
  {
   "cell_type": "code",
   "execution_count": 15,
   "metadata": {},
   "outputs": [
    {
     "name": "stdout",
     "output_type": "stream",
     "text": [
      "(18284, 2)\n",
      "(18284,)\n",
      "      Iter       Train Loss   Remaining Time \n",
      "         1           0.1357            8.53m\n",
      "         2           0.1280            8.13m\n",
      "         3           0.1241            7.83m\n",
      "         4           0.1223            7.67m\n",
      "         5           0.1215            7.60m\n",
      "         6           0.1209            7.74m\n",
      "         7           0.1204            7.72m\n",
      "         8           0.1200            7.67m\n",
      "         9           0.1194            7.68m\n",
      "        10           0.1193            7.67m\n",
      "        20           0.1175            7.53m\n",
      "        30           0.1162            7.49m\n",
      "        40           0.1155            7.49m\n",
      "        50           0.1149            7.54m\n",
      "        60           0.1140            7.56m\n",
      "        70           0.1132            7.53m\n",
      "        80           0.1126            7.50m\n",
      "        90           0.1121            7.50m\n",
      "       100           0.1117            7.49m\n",
      "       200           0.1072            7.43m\n",
      "       300           0.1040            7.39m\n",
      "       400           0.1012            7.37m\n",
      "       500           0.0986            7.34m\n",
      "       600           0.0967            7.34m\n",
      "       700           0.0950            7.33m\n",
      "       800           0.0934            7.32m\n",
      "       900           0.0920            7.30m\n",
      "      1000           0.0908            7.30m\n",
      "      2000           0.0825            7.20m\n",
      "      3000           0.0778            7.09m\n",
      "      4000           0.0744            6.98m\n",
      "      5000           0.0718            6.87m\n",
      "      6000           0.0696            6.76m\n",
      "      7000           0.0678            6.65m\n",
      "      8000           0.0663            6.55m\n",
      "      9000           0.0649            6.44m\n",
      "     10000           0.0637            6.33m\n",
      "     20000           0.0562            5.27m\n",
      "     30000           0.0525            4.22m\n",
      "     40000           0.0503            3.16m\n",
      "     50000           0.0488            2.11m\n",
      "     60000           0.0479            1.05m\n",
      "     70000           0.0472            0.00s\n"
     ]
    },
    {
     "data": {
      "text/plain": [
       "0.69211696958018"
      ]
     },
     "execution_count": 15,
     "metadata": {},
     "output_type": "execute_result"
    }
   ],
   "source": [
    "#### DIVISÃO PREDITORES E TARGET\n",
    "X = dados_confiaveis_filtro1.loc[:, [\"Time\",\"Confirmed\"]].values\n",
    "y = dados_confiaveis_filtro1.loc[:, \"C1\"].values\n",
    "\n",
    "print(X.shape)\n",
    "print(y.shape)\n",
    "\n",
    "#### GRADIENT BOOSTING REGRESSOR\n",
    "\n",
    "regressor_c1 = GradientBoostingRegressor(n_estimators= numero_de_estimadores, learning_rate=rate, verbose=1)\n",
    "regressor_c1.fit(X,y)\n",
    "score = regressor_c1.score(X,y)\n",
    "score"
   ]
  },
  {
   "cell_type": "markdown",
   "metadata": {},
   "source": [
    "#### TREINAMENTO PARA INSERIR DADOS DE CONTIGÊNCIA C2"
   ]
  },
  {
   "cell_type": "code",
   "execution_count": 16,
   "metadata": {},
   "outputs": [
    {
     "name": "stdout",
     "output_type": "stream",
     "text": [
      "(18284, 2)\n",
      "(18284,)\n",
      "      Iter       Train Loss   Remaining Time \n",
      "         1           0.1601            7.19m\n",
      "         2           0.1510            7.42m\n",
      "         3           0.1471            7.43m\n",
      "         4           0.1447            7.49m\n",
      "         5           0.1436            7.48m\n",
      "         6           0.1429            7.50m\n",
      "         7           0.1426            7.53m\n",
      "         8           0.1421            7.48m\n",
      "         9           0.1419            7.53m\n",
      "        10           0.1415            7.54m\n",
      "        20           0.1395            7.40m\n",
      "        30           0.1382            7.37m\n",
      "        40           0.1371            7.37m\n",
      "        50           0.1361            7.38m\n",
      "        60           0.1354            7.39m\n",
      "        70           0.1347            7.37m\n",
      "        80           0.1340            7.36m\n",
      "        90           0.1334            7.37m\n",
      "       100           0.1329            7.39m\n",
      "       200           0.1280            7.35m\n",
      "       300           0.1243            7.37m\n",
      "       400           0.1210            7.38m\n",
      "       500           0.1183            7.37m\n",
      "       600           0.1162            7.35m\n",
      "       700           0.1138            7.33m\n",
      "       800           0.1121            7.32m\n",
      "       900           0.1103            7.31m\n",
      "      1000           0.1090            7.31m\n",
      "      2000           0.0991            7.19m\n",
      "      3000           0.0929            7.08m\n",
      "      4000           0.0885            6.97m\n",
      "      5000           0.0849            6.86m\n",
      "      6000           0.0821            6.76m\n",
      "      7000           0.0796            6.65m\n",
      "      8000           0.0776            6.55m\n",
      "      9000           0.0758            6.44m\n",
      "     10000           0.0742            6.33m\n",
      "     20000           0.0639            5.27m\n",
      "     30000           0.0585            4.22m\n",
      "     40000           0.0552            3.16m\n",
      "     50000           0.0529            2.11m\n",
      "     60000           0.0513            1.05m\n",
      "     70000           0.0502            0.00s\n"
     ]
    },
    {
     "data": {
      "text/plain": [
       "0.7254010011823515"
      ]
     },
     "execution_count": 16,
     "metadata": {},
     "output_type": "execute_result"
    }
   ],
   "source": [
    "#### DIVISÃO PREDITORES E TARGET\n",
    "X = dados_confiaveis_filtro1.loc[:, [\"Time\",\"Confirmed\"]].values\n",
    "y = dados_confiaveis_filtro1.loc[:, \"C2\"].values\n",
    "\n",
    "print(X.shape)\n",
    "print(y.shape)\n",
    "\n",
    "#### GRADIENT BOOSTING REGRESSOR\n",
    "\n",
    "regressor_c2 = GradientBoostingRegressor(n_estimators= numero_de_estimadores, learning_rate=rate, verbose=1)\n",
    "regressor_c2.fit(X,y)\n",
    "score = regressor_c2.score(X,y)\n",
    "score"
   ]
  },
  {
   "cell_type": "markdown",
   "metadata": {},
   "source": [
    "#### TREINAMENTO PARA INSERIR DADOS DE CONTIGÊNCIA C3"
   ]
  },
  {
   "cell_type": "code",
   "execution_count": 17,
   "metadata": {},
   "outputs": [
    {
     "name": "stdout",
     "output_type": "stream",
     "text": [
      "(18284, 2)\n",
      "(18284,)\n",
      "      Iter       Train Loss   Remaining Time \n",
      "         1           0.1277            7.57m\n",
      "         2           0.1214            7.72m\n",
      "         3           0.1180            7.63m\n",
      "         4           0.1166            7.64m\n",
      "         5           0.1158            7.65m\n",
      "         6           0.1151            7.66m\n",
      "         7           0.1147            7.60m\n",
      "         8           0.1142            7.55m\n",
      "         9           0.1138            7.63m\n",
      "        10           0.1136            7.62m\n",
      "        20           0.1118            7.46m\n",
      "        30           0.1110            7.47m\n",
      "        40           0.1101            7.45m\n",
      "        50           0.1094            7.47m\n",
      "        60           0.1086            7.46m\n",
      "        70           0.1079            7.43m\n",
      "        80           0.1075            7.41m\n",
      "        90           0.1067            7.43m\n",
      "       100           0.1061            7.42m\n",
      "       200           0.1015            7.37m\n",
      "       300           0.0980            7.36m\n",
      "       400           0.0953            7.32m\n",
      "       500           0.0931            7.31m\n",
      "       600           0.0911            7.30m\n",
      "       700           0.0895            7.29m\n",
      "       800           0.0881            7.29m\n",
      "       900           0.0868            7.28m\n",
      "      1000           0.0858            7.27m\n",
      "      2000           0.0779            7.16m\n",
      "      3000           0.0733            7.07m\n",
      "      4000           0.0701            6.97m\n",
      "      5000           0.0675            6.86m\n",
      "      6000           0.0655            6.75m\n",
      "      7000           0.0638            6.64m\n",
      "      8000           0.0623            6.53m\n",
      "      9000           0.0610            6.43m\n",
      "     10000           0.0598            6.33m\n",
      "     20000           0.0527            5.27m\n",
      "     30000           0.0492            4.22m\n",
      "     40000           0.0472            3.17m\n",
      "     50000           0.0458            2.11m\n",
      "     60000           0.0450            1.06m\n",
      "     70000           0.0444            0.00s\n"
     ]
    },
    {
     "data": {
      "text/plain": [
       "0.6904837714657697"
      ]
     },
     "execution_count": 17,
     "metadata": {},
     "output_type": "execute_result"
    }
   ],
   "source": [
    "#### DIVISÃO PREDITORES E TARGET\n",
    "X = dados_confiaveis_filtro1.loc[:, [\"Time\",\"Confirmed\"]].values\n",
    "y = dados_confiaveis_filtro1.loc[:, \"C3\"].values\n",
    "\n",
    "print(X.shape)\n",
    "print(y.shape)\n",
    "\n",
    "#### GRADIENT BOOSTING REGRESSOR\n",
    "\n",
    "regressor_c3 = GradientBoostingRegressor(n_estimators= numero_de_estimadores ,learning_rate=rate, verbose=1)\n",
    "regressor_c3.fit(X,y)\n",
    "score = regressor_c3.score(X,y)\n",
    "score"
   ]
  },
  {
   "cell_type": "markdown",
   "metadata": {},
   "source": [
    "#### TREINAMENTO PARA INSERIR DADOS DE CONTIGÊNCIA C4"
   ]
  },
  {
   "cell_type": "code",
   "execution_count": 18,
   "metadata": {},
   "outputs": [
    {
     "name": "stdout",
     "output_type": "stream",
     "text": [
      "(18284, 2)\n",
      "(18284,)\n",
      "      Iter       Train Loss   Remaining Time \n",
      "         1           0.1635            8.19m\n",
      "         2           0.1568            7.85m\n",
      "         3           0.1537            7.96m\n",
      "         4           0.1516            7.78m\n",
      "         5           0.1503            7.72m\n",
      "         6           0.1498            7.67m\n",
      "         7           0.1493            7.65m\n",
      "         8           0.1485            7.60m\n",
      "         9           0.1483            7.56m\n",
      "        10           0.1479            7.57m\n",
      "        20           0.1455            7.46m\n",
      "        30           0.1439            7.48m\n",
      "        40           0.1424            7.48m\n",
      "        50           0.1413            7.44m\n",
      "        60           0.1405            7.46m\n",
      "        70           0.1395            7.43m\n",
      "        80           0.1388            7.42m\n",
      "        90           0.1380            7.41m\n",
      "       100           0.1374            7.42m\n",
      "       200           0.1322            7.37m\n",
      "       300           0.1280            7.36m\n",
      "       400           0.1247            7.36m\n",
      "       500           0.1220            7.34m\n",
      "       600           0.1197            7.33m\n",
      "       700           0.1176            7.32m\n",
      "       800           0.1155            7.30m\n",
      "       900           0.1136            7.28m\n",
      "      1000           0.1121            7.28m\n",
      "      2000           0.1018            7.17m\n",
      "      3000           0.0957            7.07m\n",
      "      4000           0.0912            6.96m\n",
      "      5000           0.0878            6.86m\n",
      "      6000           0.0849            6.75m\n",
      "      7000           0.0825            6.65m\n",
      "      8000           0.0804            6.54m\n",
      "      9000           0.0785            6.44m\n",
      "     10000           0.0769            6.33m\n",
      "     20000           0.0666            5.27m\n",
      "     30000           0.0611            4.22m\n",
      "     40000           0.0578            3.16m\n",
      "     50000           0.0556            2.11m\n",
      "     60000           0.0541            1.05m\n",
      "     70000           0.0530            0.00s\n"
     ]
    },
    {
     "data": {
      "text/plain": [
       "0.7081572726592411"
      ]
     },
     "execution_count": 18,
     "metadata": {},
     "output_type": "execute_result"
    }
   ],
   "source": [
    "#### DIVISÃO PREDITORES E TARGET\n",
    "X = dados_confiaveis_filtro1.loc[:, [\"Time\",\"Confirmed\"]].values\n",
    "y = dados_confiaveis_filtro1.loc[:, \"C4\"].values\n",
    "\n",
    "print(X.shape)\n",
    "print(y.shape)\n",
    "\n",
    "#### GRADIENT BOOSTING REGRESSOR\n",
    "\n",
    "regressor_c4 = GradientBoostingRegressor(n_estimators= numero_de_estimadores ,learning_rate=rate, verbose=1)\n",
    "regressor_c4.fit(X,y)\n",
    "score = regressor_c4.score(X,y)\n",
    "score"
   ]
  },
  {
   "cell_type": "markdown",
   "metadata": {},
   "source": [
    "#### TREINAMENTO PARA INSERIR DADOS DE CONTIGÊNCIA C5"
   ]
  },
  {
   "cell_type": "code",
   "execution_count": 19,
   "metadata": {},
   "outputs": [
    {
     "name": "stdout",
     "output_type": "stream",
     "text": [
      "(18284, 2)\n",
      "(18284,)\n",
      "      Iter       Train Loss   Remaining Time \n",
      "         1           0.2308            7.40m\n",
      "         2           0.2218            7.48m\n",
      "         3           0.2170            7.45m\n",
      "         4           0.2148            7.71m\n",
      "         5           0.2132            7.60m\n",
      "         6           0.2120            7.64m\n",
      "         7           0.2113            7.58m\n",
      "         8           0.2110            7.60m\n",
      "         9           0.2107            7.62m\n",
      "        10           0.2106            7.63m\n",
      "        20           0.2078            7.48m\n",
      "        30           0.2060            7.45m\n",
      "        40           0.2046            7.42m\n",
      "        50           0.2030            7.40m\n",
      "        60           0.2017            7.39m\n",
      "        70           0.2004            7.37m\n",
      "        80           0.1996            7.39m\n",
      "        90           0.1984            7.39m\n",
      "       100           0.1973            7.39m\n",
      "       200           0.1897            7.37m\n",
      "       300           0.1837            7.34m\n",
      "       400           0.1788            7.34m\n",
      "       500           0.1747            7.32m\n",
      "       600           0.1712            7.31m\n",
      "       700           0.1677            7.30m\n",
      "       800           0.1646            7.29m\n",
      "       900           0.1620            7.28m\n",
      "      1000           0.1600            7.27m\n",
      "      2000           0.1438            7.16m\n",
      "      3000           0.1336            7.05m\n",
      "      4000           0.1264            6.95m\n",
      "      5000           0.1207            6.85m\n",
      "      6000           0.1160            6.74m\n",
      "      7000           0.1120            6.64m\n",
      "      8000           0.1083            6.53m\n",
      "      9000           0.1051            6.42m\n",
      "     10000           0.1023            6.32m\n",
      "     20000           0.0845            5.27m\n",
      "     30000           0.0752            4.21m\n",
      "     40000           0.0692            3.16m\n",
      "     50000           0.0651            2.11m\n",
      "     60000           0.0622            1.05m\n",
      "     70000           0.0600            0.00s\n"
     ]
    },
    {
     "data": {
      "text/plain": [
       "0.7592558146983287"
      ]
     },
     "execution_count": 19,
     "metadata": {},
     "output_type": "execute_result"
    }
   ],
   "source": [
    "#### DIVISÃO PREDITORES E TARGET\n",
    "X = dados_confiaveis_filtro1.loc[:, [\"Time\",\"Confirmed\"]].values\n",
    "y = dados_confiaveis_filtro1.loc[:, \"C5\"].values\n",
    "\n",
    "print(X.shape)\n",
    "print(y.shape)\n",
    "\n",
    "#### GRADIENT BOOSTING REGRESSOR\n",
    "\n",
    "regressor_c5 = GradientBoostingRegressor(n_estimators = numero_de_estimadores, learning_rate=rate, verbose=1)\n",
    "regressor_c5.fit(X,y)\n",
    "score = regressor_c5.score(X,y)\n",
    "score"
   ]
  },
  {
   "cell_type": "markdown",
   "metadata": {},
   "source": [
    "#### TREINAMENTO PARA INSERIR DADOS DE CONTIGÊNCIA C6"
   ]
  },
  {
   "cell_type": "code",
   "execution_count": 20,
   "metadata": {},
   "outputs": [
    {
     "name": "stdout",
     "output_type": "stream",
     "text": [
      "(18284, 2)\n",
      "(18284,)\n",
      "      Iter       Train Loss   Remaining Time \n",
      "         1           0.1984            7.15m\n",
      "         2           0.1859            7.31m\n",
      "         3           0.1798            7.35m\n",
      "         4           0.1776            7.37m\n",
      "         5           0.1756            7.43m\n",
      "         6           0.1749            7.42m\n",
      "         7           0.1746            7.60m\n",
      "         8           0.1739            7.58m\n",
      "         9           0.1735            7.57m\n",
      "        10           0.1732            7.53m\n",
      "        20           0.1710            7.45m\n",
      "        30           0.1691            7.44m\n",
      "        40           0.1678            7.50m\n",
      "        50           0.1669            7.52m\n",
      "        60           0.1659            7.50m\n",
      "        70           0.1649            7.47m\n",
      "        80           0.1642            7.46m\n",
      "        90           0.1635            7.46m\n",
      "       100           0.1625            7.44m\n",
      "       200           0.1558            7.38m\n",
      "       300           0.1509            7.37m\n",
      "       400           0.1470            7.36m\n",
      "       500           0.1438            7.35m\n",
      "       600           0.1409            7.34m\n",
      "       700           0.1380            7.32m\n",
      "       800           0.1357            7.31m\n",
      "       900           0.1337            7.31m\n",
      "      1000           0.1316            7.30m\n",
      "      2000           0.1182            7.18m\n",
      "      3000           0.1103            7.07m\n",
      "      4000           0.1044            6.96m\n",
      "      5000           0.0998            6.86m\n",
      "      6000           0.0962            6.75m\n",
      "      7000           0.0930            6.64m\n",
      "      8000           0.0902            6.54m\n",
      "      9000           0.0879            6.43m\n",
      "     10000           0.0858            6.34m\n",
      "     20000           0.0721            5.27m\n",
      "     30000           0.0650            4.21m\n",
      "     40000           0.0606            3.16m\n",
      "     50000           0.0576            2.11m\n",
      "     60000           0.0554            1.05m\n",
      "     70000           0.0538            0.00s\n"
     ]
    },
    {
     "data": {
      "text/plain": [
       "0.7585413130627375"
      ]
     },
     "execution_count": 20,
     "metadata": {},
     "output_type": "execute_result"
    }
   ],
   "source": [
    "#### DIVISÃO PREDITORES E TARGET\n",
    "X = dados_confiaveis_filtro1.loc[:, [\"Time\",\"Confirmed\"]].values\n",
    "y = dados_confiaveis_filtro1.loc[:, \"C6\"].values\n",
    "\n",
    "print(X.shape)\n",
    "print(y.shape)\n",
    "\n",
    "#### GRADIENT BOOSTING REGRESSOR\n",
    "\n",
    "regressor_c6 = GradientBoostingRegressor(n_estimators = numero_de_estimadores, learning_rate=rate, verbose=1)\n",
    "regressor_c6.fit(X,y)\n",
    "score = regressor_c6.score(X,y)\n",
    "score"
   ]
  },
  {
   "cell_type": "markdown",
   "metadata": {},
   "source": [
    "#### TREINAMENTO PARA INSERIR DADOS DE CONTIGÊNCIA C7"
   ]
  },
  {
   "cell_type": "code",
   "execution_count": 21,
   "metadata": {},
   "outputs": [
    {
     "name": "stdout",
     "output_type": "stream",
     "text": [
      "(18284, 2)\n",
      "(18284,)\n",
      "      Iter       Train Loss   Remaining Time \n",
      "         1           0.1991            8.76m\n",
      "         2           0.1866            8.14m\n",
      "         3           0.1801            7.83m\n",
      "         4           0.1771            7.76m\n",
      "         5           0.1754            7.81m\n",
      "         6           0.1747            7.95m\n",
      "         7           0.1736            7.90m\n",
      "         8           0.1731            7.94m\n",
      "         9           0.1727            7.87m\n",
      "        10           0.1725            7.95m\n",
      "        20           0.1701            7.76m\n",
      "        30           0.1687            7.68m\n",
      "        40           0.1673            7.67m\n",
      "        50           0.1661            7.59m\n",
      "        60           0.1654            7.56m\n",
      "        70           0.1646            7.54m\n",
      "        80           0.1639            7.51m\n",
      "        90           0.1631            7.51m\n",
      "       100           0.1623            7.49m\n",
      "       200           0.1555            7.42m\n",
      "       300           0.1513            7.39m\n",
      "       400           0.1477            7.37m\n",
      "       500           0.1442            7.35m\n",
      "       600           0.1410            7.34m\n",
      "       700           0.1385            7.33m\n",
      "       800           0.1364            7.32m\n",
      "       900           0.1343            7.30m\n",
      "      1000           0.1325            7.29m\n",
      "      2000           0.1200            7.18m\n",
      "      3000           0.1122            7.07m\n",
      "      4000           0.1067            6.96m\n",
      "      5000           0.1024            6.86m\n",
      "      6000           0.0988            6.75m\n",
      "      7000           0.0959            6.64m\n",
      "      8000           0.0933            6.54m\n",
      "      9000           0.0910            6.43m\n",
      "     10000           0.0888            6.33m\n",
      "     20000           0.0752            5.27m\n",
      "     30000           0.0679            4.22m\n",
      "     40000           0.0634            3.16m\n",
      "     50000           0.0603            2.11m\n",
      "     60000           0.0580            1.05m\n",
      "     70000           0.0563            0.00s\n"
     ]
    },
    {
     "data": {
      "text/plain": [
       "0.748393154574302"
      ]
     },
     "execution_count": 21,
     "metadata": {},
     "output_type": "execute_result"
    }
   ],
   "source": [
    "#### DIVISÃO PREDITORES E TARGET\n",
    "X = dados_confiaveis_filtro1.loc[:, [\"Time\",\"Confirmed\"]].values\n",
    "y = dados_confiaveis_filtro1.loc[:, \"C7\"].values\n",
    "\n",
    "print(X.shape)\n",
    "print(y.shape)\n",
    "\n",
    "#### GRADIENT BOOSTING REGRESSOR\n",
    "\n",
    "regressor_c7 = GradientBoostingRegressor(n_estimators = numero_de_estimadores, learning_rate=rate, verbose=1)\n",
    "regressor_c7.fit(X,y)\n",
    "score = regressor_c7.score(X,y)\n",
    "score"
   ]
  },
  {
   "cell_type": "markdown",
   "metadata": {},
   "source": [
    "#### TREINAMENTO PARA INSERIR DADOS DE CONTIGÊNCIA C8"
   ]
  },
  {
   "cell_type": "code",
   "execution_count": 22,
   "metadata": {},
   "outputs": [
    {
     "name": "stdout",
     "output_type": "stream",
     "text": [
      "(18284, 2)\n",
      "(18284,)\n",
      "      Iter       Train Loss   Remaining Time \n",
      "         1           0.1297            7.43m\n",
      "         2           0.1271            8.08m\n",
      "         3           0.1257            7.80m\n",
      "         4           0.1249            7.94m\n",
      "         5           0.1243            7.78m\n",
      "         6           0.1241            7.78m\n",
      "         7           0.1238            7.68m\n",
      "         8           0.1235            7.67m\n",
      "         9           0.1232            7.74m\n",
      "        10           0.1230            7.73m\n",
      "        20           0.1210            7.53m\n",
      "        30           0.1199            7.43m\n",
      "        40           0.1185            7.42m\n",
      "        50           0.1175            7.41m\n",
      "        60           0.1164            7.43m\n",
      "        70           0.1156            7.43m\n",
      "        80           0.1150            7.41m\n",
      "        90           0.1144            7.41m\n",
      "       100           0.1137            7.42m\n",
      "       200           0.1082            7.36m\n",
      "       300           0.1042            7.35m\n",
      "       400           0.1005            7.34m\n",
      "       500           0.0979            7.33m\n",
      "       600           0.0953            7.32m\n",
      "       700           0.0933            7.31m\n",
      "       800           0.0912            7.29m\n",
      "       900           0.0895            7.27m\n",
      "      1000           0.0883            7.26m\n",
      "      2000           0.0789            7.16m\n",
      "      3000           0.0736            7.07m\n",
      "      4000           0.0699            6.96m\n",
      "      5000           0.0670            6.86m\n",
      "      6000           0.0646            6.75m\n",
      "      7000           0.0627            6.65m\n",
      "      8000           0.0610            6.55m\n",
      "      9000           0.0595            6.44m\n",
      "     10000           0.0583            6.34m\n",
      "     20000           0.0503            5.28m\n",
      "     30000           0.0463            4.22m\n",
      "     40000           0.0439            3.17m\n",
      "     50000           0.0424            2.11m\n",
      "     60000           0.0414            1.06m\n",
      "     70000           0.0407            0.00s\n"
     ]
    },
    {
     "data": {
      "text/plain": [
       "0.6998100871563981"
      ]
     },
     "execution_count": 22,
     "metadata": {},
     "output_type": "execute_result"
    }
   ],
   "source": [
    "#### DIVISÃO PREDITORES E TARGET\n",
    "X = dados_confiaveis_filtro1.loc[:, [\"Time\",\"Confirmed\"]].values\n",
    "y = dados_confiaveis_filtro1.loc[:, \"C8\"].values\n",
    "\n",
    "print(X.shape)\n",
    "print(y.shape)\n",
    "\n",
    "#### GRADIENT BOOSTING REGRESSOR\n",
    "\n",
    "regressor_c8 = GradientBoostingRegressor(n_estimators= numero_de_estimadores, learning_rate=rate, verbose=1)\n",
    "regressor_c8.fit(X,y)\n",
    "score = regressor_c8.score(X,y)\n",
    "score"
   ]
  },
  {
   "cell_type": "markdown",
   "metadata": {},
   "source": [
    "## ADIÇÃO DA MULTIVARIEDADE"
   ]
  },
  {
   "cell_type": "code",
   "execution_count": 23,
   "metadata": {},
   "outputs": [],
   "source": [
    "start_time = datetime.now() "
   ]
  },
  {
   "cell_type": "code",
   "execution_count": 24,
   "metadata": {},
   "outputs": [
    {
     "name": "stdout",
     "output_type": "stream",
     "text": [
      "CASOS DE MORTE - DONE\n"
     ]
    }
   ],
   "source": [
    "#PREDIÇÃO (ADICIONANDO OS CASOS DE MORTE AOS DADOS SINTÉTICOS)\n",
    "morte_estimadas = regressor_obito.predict(dados_sinteticos.loc[:,[\"Time\",\"Confirmed\"]].values)\n",
    "morte_estimadas = np.around(morte_estimadas,0)\n",
    "dados_sinteticos[\"Deaths\"] = morte_estimadas\n",
    "dados_sinteticos\n",
    "print(\"CASOS DE MORTE - DONE\")"
   ]
  },
  {
   "cell_type": "code",
   "execution_count": 25,
   "metadata": {},
   "outputs": [
    {
     "name": "stdout",
     "output_type": "stream",
     "text": [
      "Time elapsed (hh:mm:ss.ms) 1:13:10.136077\n"
     ]
    }
   ],
   "source": [
    "time_elapsed = datetime.now() - start_time \n",
    "print('Time elapsed (hh:mm:ss.ms) {}'.format(time_elapsed))"
   ]
  },
  {
   "cell_type": "code",
   "execution_count": 26,
   "metadata": {},
   "outputs": [],
   "source": [
    "start_time = datetime.now() "
   ]
  },
  {
   "cell_type": "code",
   "execution_count": 27,
   "metadata": {},
   "outputs": [
    {
     "name": "stdout",
     "output_type": "stream",
     "text": [
      "C1 - DONE\n"
     ]
    }
   ],
   "source": [
    "#PREDIÇÃO (ADICIONANDO DADOS DE C1 SITUAÇÃO HIPOTÉTICA)\n",
    "c1_estimadas = regressor_c1.predict(dados_sinteticos.loc[:,[\"Time\",\"Confirmed\"]].values)\n",
    "c1_estimadas = np.around(c1_estimadas,0)\n",
    "dados_sinteticos[\"C1\"] = c1_estimadas\n",
    "print(\"C1 - DONE\")"
   ]
  },
  {
   "cell_type": "code",
   "execution_count": 28,
   "metadata": {},
   "outputs": [
    {
     "name": "stdout",
     "output_type": "stream",
     "text": [
      "Time elapsed (hh:mm:ss.ms) 1:15:36.607979\n"
     ]
    }
   ],
   "source": [
    "time_elapsed = datetime.now() - start_time \n",
    "print('Time elapsed (hh:mm:ss.ms) {}'.format(time_elapsed))"
   ]
  },
  {
   "cell_type": "code",
   "execution_count": 29,
   "metadata": {},
   "outputs": [],
   "source": [
    "start_time = datetime.now() "
   ]
  },
  {
   "cell_type": "code",
   "execution_count": 30,
   "metadata": {},
   "outputs": [
    {
     "name": "stdout",
     "output_type": "stream",
     "text": [
      "C2 - DONE\n"
     ]
    }
   ],
   "source": [
    "#PREDIÇÃO (ADICIONANDO DADOS DE C2 SITUAÇÃO HIPOTÉTICA)\n",
    "c2_estimadas = regressor_c2.predict(dados_sinteticos.loc[:,[\"Time\",\"Confirmed\"]].values)\n",
    "c2_estimadas = np.around(c2_estimadas,0)\n",
    "dados_sinteticos[\"C2\"] = c2_estimadas\n",
    "print(\"C2 - DONE\")"
   ]
  },
  {
   "cell_type": "code",
   "execution_count": 31,
   "metadata": {},
   "outputs": [
    {
     "name": "stdout",
     "output_type": "stream",
     "text": [
      "Time elapsed (hh:mm:ss.ms) 1:15:18.309140\n"
     ]
    }
   ],
   "source": [
    "time_elapsed = datetime.now() - start_time \n",
    "print('Time elapsed (hh:mm:ss.ms) {}'.format(time_elapsed))"
   ]
  },
  {
   "cell_type": "code",
   "execution_count": 32,
   "metadata": {},
   "outputs": [],
   "source": [
    "start_time = datetime.now() "
   ]
  },
  {
   "cell_type": "code",
   "execution_count": 33,
   "metadata": {},
   "outputs": [
    {
     "name": "stdout",
     "output_type": "stream",
     "text": [
      "C3 - DONE\n"
     ]
    }
   ],
   "source": [
    "#PREDIÇÃO (ADICIONANDO DADOS DE C3 SITUAÇÃO HIPOTÉTICA)\n",
    "c3_estimadas = regressor_c3.predict(dados_sinteticos.loc[:,[\"Time\",\"Confirmed\"]].values)\n",
    "c3_estimadas = np.around(c3_estimadas,0)\n",
    "dados_sinteticos[\"C3\"] = c3_estimadas\n",
    "print(\"C3 - DONE\")"
   ]
  },
  {
   "cell_type": "code",
   "execution_count": 34,
   "metadata": {},
   "outputs": [
    {
     "name": "stdout",
     "output_type": "stream",
     "text": [
      "Time elapsed (hh:mm:ss.ms) 1:16:00.026132\n"
     ]
    }
   ],
   "source": [
    "time_elapsed = datetime.now() - start_time \n",
    "print('Time elapsed (hh:mm:ss.ms) {}'.format(time_elapsed))"
   ]
  },
  {
   "cell_type": "code",
   "execution_count": 35,
   "metadata": {},
   "outputs": [],
   "source": [
    "start_time = datetime.now() "
   ]
  },
  {
   "cell_type": "code",
   "execution_count": 36,
   "metadata": {},
   "outputs": [
    {
     "name": "stdout",
     "output_type": "stream",
     "text": [
      "C4 - DONE\n"
     ]
    }
   ],
   "source": [
    "#PREDIÇÃO (ADICIONANDO DADOS DE C4 SITUAÇÃO HIPOTÉTICA)\n",
    "c4_estimadas = regressor_c4.predict(dados_sinteticos.loc[:,[\"Time\",\"Confirmed\"]].values)\n",
    "c4_estimadas = np.around(c4_estimadas,0)\n",
    "dados_sinteticos[\"C4\"] = c4_estimadas\n",
    "print(\"C4 - DONE\")"
   ]
  },
  {
   "cell_type": "code",
   "execution_count": 37,
   "metadata": {},
   "outputs": [
    {
     "name": "stdout",
     "output_type": "stream",
     "text": [
      "Time elapsed (hh:mm:ss.ms) 1:15:48.036318\n"
     ]
    }
   ],
   "source": [
    "time_elapsed = datetime.now() - start_time \n",
    "print('Time elapsed (hh:mm:ss.ms) {}'.format(time_elapsed))"
   ]
  },
  {
   "cell_type": "code",
   "execution_count": 38,
   "metadata": {},
   "outputs": [],
   "source": [
    "start_time = datetime.now() "
   ]
  },
  {
   "cell_type": "code",
   "execution_count": 39,
   "metadata": {},
   "outputs": [
    {
     "name": "stdout",
     "output_type": "stream",
     "text": [
      "C5 - DONE\n"
     ]
    }
   ],
   "source": [
    "#PREDIÇÃO (ADICIONANDO DADOS DE C5 SITUAÇÃO HIPOTÉTICA)\n",
    "c5_estimadas = regressor_c5.predict(dados_sinteticos.loc[:,[\"Time\",\"Confirmed\"]].values)\n",
    "c5_estimadas = np.around(c5_estimadas,0)\n",
    "dados_sinteticos[\"C5\"] = c5_estimadas\n",
    "print(\"C5 - DONE\")"
   ]
  },
  {
   "cell_type": "code",
   "execution_count": 40,
   "metadata": {},
   "outputs": [
    {
     "name": "stdout",
     "output_type": "stream",
     "text": [
      "Time elapsed (hh:mm:ss.ms) 1:15:45.766954\n"
     ]
    }
   ],
   "source": [
    "time_elapsed = datetime.now() - start_time \n",
    "print('Time elapsed (hh:mm:ss.ms) {}'.format(time_elapsed))"
   ]
  },
  {
   "cell_type": "code",
   "execution_count": 41,
   "metadata": {},
   "outputs": [],
   "source": [
    "start_time = datetime.now() "
   ]
  },
  {
   "cell_type": "code",
   "execution_count": 42,
   "metadata": {},
   "outputs": [
    {
     "name": "stdout",
     "output_type": "stream",
     "text": [
      "C6 - DONE\n"
     ]
    }
   ],
   "source": [
    "#PREDIÇÃO (ADICIONANDO DADOS DE C6 SITUAÇÃO HIPOTÉTICA)\n",
    "c6_estimadas = regressor_c6.predict(dados_sinteticos.loc[:,[\"Time\",\"Confirmed\"]].values)\n",
    "c6_estimadas = np.around(c6_estimadas,0)\n",
    "dados_sinteticos[\"C6\"] = c6_estimadas\n",
    "print(\"C6 - DONE\")"
   ]
  },
  {
   "cell_type": "code",
   "execution_count": 43,
   "metadata": {},
   "outputs": [
    {
     "name": "stdout",
     "output_type": "stream",
     "text": [
      "Time elapsed (hh:mm:ss.ms) 1:15:47.833070\n"
     ]
    }
   ],
   "source": [
    "time_elapsed = datetime.now() - start_time \n",
    "print('Time elapsed (hh:mm:ss.ms) {}'.format(time_elapsed))"
   ]
  },
  {
   "cell_type": "code",
   "execution_count": 44,
   "metadata": {},
   "outputs": [],
   "source": [
    "start_time = datetime.now() "
   ]
  },
  {
   "cell_type": "code",
   "execution_count": 45,
   "metadata": {},
   "outputs": [
    {
     "name": "stdout",
     "output_type": "stream",
     "text": [
      "C7 - DONE\n"
     ]
    }
   ],
   "source": [
    "#PREDIÇÃO (ADICIONANDO DADOS DE C7 SITUAÇÃO HIPOTÉTICA)\n",
    "c7_estimadas = regressor_c7.predict(dados_sinteticos.loc[:,[\"Time\",\"Confirmed\"]].values)\n",
    "c7_estimadas = np.around(c7_estimadas,0)\n",
    "dados_sinteticos[\"C7\"] = c7_estimadas\n",
    "print(\"C7 - DONE\")"
   ]
  },
  {
   "cell_type": "code",
   "execution_count": 46,
   "metadata": {},
   "outputs": [
    {
     "name": "stdout",
     "output_type": "stream",
     "text": [
      "Time elapsed (hh:mm:ss.ms) 1:15:57.104162\n"
     ]
    }
   ],
   "source": [
    "time_elapsed = datetime.now() - start_time \n",
    "print('Time elapsed (hh:mm:ss.ms) {}'.format(time_elapsed))"
   ]
  },
  {
   "cell_type": "code",
   "execution_count": 47,
   "metadata": {},
   "outputs": [],
   "source": [
    "start_time = datetime.now() "
   ]
  },
  {
   "cell_type": "code",
   "execution_count": 48,
   "metadata": {},
   "outputs": [
    {
     "name": "stdout",
     "output_type": "stream",
     "text": [
      "C8 - DONE\n"
     ]
    }
   ],
   "source": [
    "#PREDIÇÃO (ADICIONANDO DADOS DE C8 SITUAÇÃO HIPOTÉTICA)\n",
    "c8_estimadas = regressor_c8.predict(dados_sinteticos.loc[:,[\"Time\",\"Confirmed\"]].values)\n",
    "c8_estimadas = np.around(c8_estimadas,0)\n",
    "dados_sinteticos[\"C8\"] = c8_estimadas\n",
    "print(\"C8 - DONE\")"
   ]
  },
  {
   "cell_type": "code",
   "execution_count": 49,
   "metadata": {},
   "outputs": [
    {
     "name": "stdout",
     "output_type": "stream",
     "text": [
      "Time elapsed (hh:mm:ss.ms) 1:15:24.183985\n"
     ]
    }
   ],
   "source": [
    "time_elapsed = datetime.now() - start_time \n",
    "print('Time elapsed (hh:mm:ss.ms) {}'.format(time_elapsed))"
   ]
  },
  {
   "cell_type": "code",
   "execution_count": 50,
   "metadata": {},
   "outputs": [
    {
     "name": "stdout",
     "output_type": "stream",
     "text": [
      "TREINAMENTO CONCLUÍDO\n"
     ]
    }
   ],
   "source": [
    "print(\"TREINAMENTO CONCLUÍDO\")"
   ]
  },
  {
   "cell_type": "code",
   "execution_count": 51,
   "metadata": {},
   "outputs": [
    {
     "data": {
      "text/html": [
       "<div>\n",
       "<style scoped>\n",
       "    .dataframe tbody tr th:only-of-type {\n",
       "        vertical-align: middle;\n",
       "    }\n",
       "\n",
       "    .dataframe tbody tr th {\n",
       "        vertical-align: top;\n",
       "    }\n",
       "\n",
       "    .dataframe thead th {\n",
       "        text-align: right;\n",
       "    }\n",
       "</style>\n",
       "<table border=\"1\" class=\"dataframe\">\n",
       "  <thead>\n",
       "    <tr style=\"text-align: right;\">\n",
       "      <th></th>\n",
       "      <th>Data</th>\n",
       "      <th>ID</th>\n",
       "      <th>Time</th>\n",
       "      <th>Regiao de REF</th>\n",
       "      <th>Confirmed</th>\n",
       "      <th>Deaths</th>\n",
       "      <th>C1</th>\n",
       "      <th>C2</th>\n",
       "      <th>C3</th>\n",
       "      <th>C4</th>\n",
       "      <th>C5</th>\n",
       "      <th>C6</th>\n",
       "      <th>C7</th>\n",
       "      <th>C8</th>\n",
       "    </tr>\n",
       "  </thead>\n",
       "  <tbody>\n",
       "    <tr>\n",
       "      <th>0</th>\n",
       "      <td>2020-03-19</td>\n",
       "      <td>1</td>\n",
       "      <td>1</td>\n",
       "      <td>AC</td>\n",
       "      <td>1.0</td>\n",
       "      <td>0.0</td>\n",
       "      <td>0.0</td>\n",
       "      <td>0.0</td>\n",
       "      <td>0.0</td>\n",
       "      <td>0.0</td>\n",
       "      <td>0.0</td>\n",
       "      <td>0.0</td>\n",
       "      <td>0.0</td>\n",
       "      <td>0.0</td>\n",
       "    </tr>\n",
       "    <tr>\n",
       "      <th>1</th>\n",
       "      <td>2020-03-20</td>\n",
       "      <td>1</td>\n",
       "      <td>2</td>\n",
       "      <td>AC</td>\n",
       "      <td>1.0</td>\n",
       "      <td>0.0</td>\n",
       "      <td>0.0</td>\n",
       "      <td>0.0</td>\n",
       "      <td>0.0</td>\n",
       "      <td>0.0</td>\n",
       "      <td>0.0</td>\n",
       "      <td>0.0</td>\n",
       "      <td>0.0</td>\n",
       "      <td>0.0</td>\n",
       "    </tr>\n",
       "    <tr>\n",
       "      <th>2</th>\n",
       "      <td>2020-03-21</td>\n",
       "      <td>1</td>\n",
       "      <td>3</td>\n",
       "      <td>AC</td>\n",
       "      <td>0.0</td>\n",
       "      <td>0.0</td>\n",
       "      <td>0.0</td>\n",
       "      <td>0.0</td>\n",
       "      <td>0.0</td>\n",
       "      <td>0.0</td>\n",
       "      <td>0.0</td>\n",
       "      <td>0.0</td>\n",
       "      <td>0.0</td>\n",
       "      <td>0.0</td>\n",
       "    </tr>\n",
       "    <tr>\n",
       "      <th>3</th>\n",
       "      <td>2020-03-22</td>\n",
       "      <td>1</td>\n",
       "      <td>4</td>\n",
       "      <td>AC</td>\n",
       "      <td>1.0</td>\n",
       "      <td>0.0</td>\n",
       "      <td>0.0</td>\n",
       "      <td>-0.0</td>\n",
       "      <td>0.0</td>\n",
       "      <td>0.0</td>\n",
       "      <td>-0.0</td>\n",
       "      <td>0.0</td>\n",
       "      <td>0.0</td>\n",
       "      <td>0.0</td>\n",
       "    </tr>\n",
       "    <tr>\n",
       "      <th>4</th>\n",
       "      <td>2020-03-23</td>\n",
       "      <td>1</td>\n",
       "      <td>5</td>\n",
       "      <td>AC</td>\n",
       "      <td>0.0</td>\n",
       "      <td>0.0</td>\n",
       "      <td>0.0</td>\n",
       "      <td>0.0</td>\n",
       "      <td>0.0</td>\n",
       "      <td>0.0</td>\n",
       "      <td>0.0</td>\n",
       "      <td>0.0</td>\n",
       "      <td>0.0</td>\n",
       "      <td>0.0</td>\n",
       "    </tr>\n",
       "  </tbody>\n",
       "</table>\n",
       "</div>"
      ],
      "text/plain": [
       "         Data  ID  Time Regiao de REF  Confirmed  Deaths   C1   C2   C3   C4  \\\n",
       "0  2020-03-19   1     1            AC        1.0     0.0  0.0  0.0  0.0  0.0   \n",
       "1  2020-03-20   1     2            AC        1.0     0.0  0.0  0.0  0.0  0.0   \n",
       "2  2020-03-21   1     3            AC        0.0     0.0  0.0  0.0  0.0  0.0   \n",
       "3  2020-03-22   1     4            AC        1.0     0.0  0.0 -0.0  0.0  0.0   \n",
       "4  2020-03-23   1     5            AC        0.0     0.0  0.0  0.0  0.0  0.0   \n",
       "\n",
       "    C5   C6   C7   C8  \n",
       "0  0.0  0.0  0.0  0.0  \n",
       "1  0.0  0.0  0.0  0.0  \n",
       "2  0.0  0.0  0.0  0.0  \n",
       "3 -0.0  0.0  0.0  0.0  \n",
       "4  0.0  0.0  0.0  0.0  "
      ]
     },
     "execution_count": 51,
     "metadata": {},
     "output_type": "execute_result"
    }
   ],
   "source": [
    "dados_sinteticos.head()"
   ]
  },
  {
   "cell_type": "markdown",
   "metadata": {},
   "source": [
    "#### VERIFICAÇÃO BÁSICA "
   ]
  },
  {
   "cell_type": "code",
   "execution_count": 52,
   "metadata": {},
   "outputs": [
    {
     "data": {
      "text/plain": [
       "Data             0\n",
       "ID               0\n",
       "Time             0\n",
       "Regiao de REF    0\n",
       "Confirmed        0\n",
       "Deaths           0\n",
       "C1               0\n",
       "C2               0\n",
       "C3               0\n",
       "C4               0\n",
       "C5               0\n",
       "C6               0\n",
       "C7               0\n",
       "C8               0\n",
       "dtype: int64"
      ]
     },
     "execution_count": 52,
     "metadata": {},
     "output_type": "execute_result"
    }
   ],
   "source": [
    "dados_sinteticos.isnull().sum()"
   ]
  },
  {
   "cell_type": "code",
   "execution_count": 53,
   "metadata": {},
   "outputs": [
    {
     "data": {
      "text/plain": [
       "Data             2020-01-23\n",
       "ID                        1\n",
       "Time                      1\n",
       "Regiao de REF            AC\n",
       "Confirmed                 0\n",
       "Deaths                 -471\n",
       "C1                       -3\n",
       "C2                       -3\n",
       "C3                       -1\n",
       "C4                       -1\n",
       "C5                       -4\n",
       "C6                       -4\n",
       "C7                       -3\n",
       "C8                       -2\n",
       "dtype: object"
      ]
     },
     "execution_count": 53,
     "metadata": {},
     "output_type": "execute_result"
    }
   ],
   "source": [
    "dados_sinteticos.min()"
   ]
  },
  {
   "cell_type": "markdown",
   "metadata": {},
   "source": [
    "#### CORREÇÕES BÁSICAS"
   ]
  },
  {
   "cell_type": "code",
   "execution_count": 54,
   "metadata": {},
   "outputs": [],
   "source": [
    "dados_sinteticos_corrigido = dados_sinteticos.copy()"
   ]
  },
  {
   "cell_type": "code",
   "execution_count": 55,
   "metadata": {},
   "outputs": [],
   "source": [
    "cols = [\"Deaths\",\"C1\",\"C2\",\"C3\",\"C4\",\"C5\",\"C6\",\"C7\",\"C8\"]\n",
    "dados_sinteticos_corrigido[cols] = dados_sinteticos_corrigido[cols].clip(lower=0)"
   ]
  },
  {
   "cell_type": "code",
   "execution_count": 56,
   "metadata": {},
   "outputs": [
    {
     "data": {
      "text/plain": [
       "Data             2020-01-23\n",
       "ID                        1\n",
       "Time                      1\n",
       "Regiao de REF            AC\n",
       "Confirmed                 0\n",
       "Deaths                    0\n",
       "C1                        0\n",
       "C2                        0\n",
       "C3                        0\n",
       "C4                        0\n",
       "C5                        0\n",
       "C6                        0\n",
       "C7                        0\n",
       "C8                        0\n",
       "dtype: object"
      ]
     },
     "execution_count": 56,
     "metadata": {},
     "output_type": "execute_result"
    }
   ],
   "source": [
    "dados_sinteticos_corrigido.min()"
   ]
  },
  {
   "cell_type": "code",
   "execution_count": 57,
   "metadata": {},
   "outputs": [],
   "source": [
    "dados_sinteticos_corrigido[cols] = dados_sinteticos_corrigido[cols].round(0)"
   ]
  },
  {
   "cell_type": "code",
   "execution_count": 58,
   "metadata": {},
   "outputs": [
    {
     "data": {
      "text/html": [
       "<div>\n",
       "<style scoped>\n",
       "    .dataframe tbody tr th:only-of-type {\n",
       "        vertical-align: middle;\n",
       "    }\n",
       "\n",
       "    .dataframe tbody tr th {\n",
       "        vertical-align: top;\n",
       "    }\n",
       "\n",
       "    .dataframe thead th {\n",
       "        text-align: right;\n",
       "    }\n",
       "</style>\n",
       "<table border=\"1\" class=\"dataframe\">\n",
       "  <thead>\n",
       "    <tr style=\"text-align: right;\">\n",
       "      <th></th>\n",
       "      <th>Data</th>\n",
       "      <th>ID</th>\n",
       "      <th>Time</th>\n",
       "      <th>Regiao de REF</th>\n",
       "      <th>Confirmed</th>\n",
       "      <th>Deaths</th>\n",
       "      <th>C1</th>\n",
       "      <th>C2</th>\n",
       "      <th>C3</th>\n",
       "      <th>C4</th>\n",
       "      <th>C5</th>\n",
       "      <th>C6</th>\n",
       "      <th>C7</th>\n",
       "      <th>C8</th>\n",
       "    </tr>\n",
       "  </thead>\n",
       "  <tbody>\n",
       "    <tr>\n",
       "      <th>0</th>\n",
       "      <td>2020-03-19</td>\n",
       "      <td>1</td>\n",
       "      <td>1</td>\n",
       "      <td>AC</td>\n",
       "      <td>1.0</td>\n",
       "      <td>0.0</td>\n",
       "      <td>0.0</td>\n",
       "      <td>0.0</td>\n",
       "      <td>0.0</td>\n",
       "      <td>0.0</td>\n",
       "      <td>0.0</td>\n",
       "      <td>0.0</td>\n",
       "      <td>0.0</td>\n",
       "      <td>0.0</td>\n",
       "    </tr>\n",
       "    <tr>\n",
       "      <th>1</th>\n",
       "      <td>2020-03-20</td>\n",
       "      <td>1</td>\n",
       "      <td>2</td>\n",
       "      <td>AC</td>\n",
       "      <td>1.0</td>\n",
       "      <td>0.0</td>\n",
       "      <td>0.0</td>\n",
       "      <td>0.0</td>\n",
       "      <td>0.0</td>\n",
       "      <td>0.0</td>\n",
       "      <td>0.0</td>\n",
       "      <td>0.0</td>\n",
       "      <td>0.0</td>\n",
       "      <td>0.0</td>\n",
       "    </tr>\n",
       "    <tr>\n",
       "      <th>2</th>\n",
       "      <td>2020-03-21</td>\n",
       "      <td>1</td>\n",
       "      <td>3</td>\n",
       "      <td>AC</td>\n",
       "      <td>0.0</td>\n",
       "      <td>0.0</td>\n",
       "      <td>0.0</td>\n",
       "      <td>0.0</td>\n",
       "      <td>0.0</td>\n",
       "      <td>0.0</td>\n",
       "      <td>0.0</td>\n",
       "      <td>0.0</td>\n",
       "      <td>0.0</td>\n",
       "      <td>0.0</td>\n",
       "    </tr>\n",
       "    <tr>\n",
       "      <th>3</th>\n",
       "      <td>2020-03-22</td>\n",
       "      <td>1</td>\n",
       "      <td>4</td>\n",
       "      <td>AC</td>\n",
       "      <td>1.0</td>\n",
       "      <td>0.0</td>\n",
       "      <td>0.0</td>\n",
       "      <td>-0.0</td>\n",
       "      <td>0.0</td>\n",
       "      <td>0.0</td>\n",
       "      <td>-0.0</td>\n",
       "      <td>0.0</td>\n",
       "      <td>0.0</td>\n",
       "      <td>0.0</td>\n",
       "    </tr>\n",
       "    <tr>\n",
       "      <th>4</th>\n",
       "      <td>2020-03-23</td>\n",
       "      <td>1</td>\n",
       "      <td>5</td>\n",
       "      <td>AC</td>\n",
       "      <td>0.0</td>\n",
       "      <td>0.0</td>\n",
       "      <td>0.0</td>\n",
       "      <td>0.0</td>\n",
       "      <td>0.0</td>\n",
       "      <td>0.0</td>\n",
       "      <td>0.0</td>\n",
       "      <td>0.0</td>\n",
       "      <td>0.0</td>\n",
       "      <td>0.0</td>\n",
       "    </tr>\n",
       "  </tbody>\n",
       "</table>\n",
       "</div>"
      ],
      "text/plain": [
       "         Data  ID  Time Regiao de REF  Confirmed  Deaths   C1   C2   C3   C4  \\\n",
       "0  2020-03-19   1     1            AC        1.0     0.0  0.0  0.0  0.0  0.0   \n",
       "1  2020-03-20   1     2            AC        1.0     0.0  0.0  0.0  0.0  0.0   \n",
       "2  2020-03-21   1     3            AC        0.0     0.0  0.0  0.0  0.0  0.0   \n",
       "3  2020-03-22   1     4            AC        1.0     0.0  0.0 -0.0  0.0  0.0   \n",
       "4  2020-03-23   1     5            AC        0.0     0.0  0.0  0.0  0.0  0.0   \n",
       "\n",
       "    C5   C6   C7   C8  \n",
       "0  0.0  0.0  0.0  0.0  \n",
       "1  0.0  0.0  0.0  0.0  \n",
       "2  0.0  0.0  0.0  0.0  \n",
       "3 -0.0  0.0  0.0  0.0  \n",
       "4  0.0  0.0  0.0  0.0  "
      ]
     },
     "execution_count": 58,
     "metadata": {},
     "output_type": "execute_result"
    }
   ],
   "source": [
    "dados_sinteticos_corrigido.head()"
   ]
  },
  {
   "cell_type": "markdown",
   "metadata": {},
   "source": [
    "#### SALVANDO O BANCO DE DADOS"
   ]
  },
  {
   "cell_type": "code",
   "execution_count": 59,
   "metadata": {},
   "outputs": [],
   "source": [
    "dados_sinteticos_corrigido.to_csv(\"synthetic_datasets/Dados_Sinteticos_Multivariado.csv\",index=False)"
   ]
  }
 ],
 "metadata": {
  "kernelspec": {
   "display_name": "Python 3",
   "language": "python",
   "name": "python3"
  },
  "language_info": {
   "codemirror_mode": {
    "name": "ipython",
    "version": 3
   },
   "file_extension": ".py",
   "mimetype": "text/x-python",
   "name": "python",
   "nbconvert_exporter": "python",
   "pygments_lexer": "ipython3",
   "version": "3.7.7"
  }
 },
 "nbformat": 4,
 "nbformat_minor": 4
}
