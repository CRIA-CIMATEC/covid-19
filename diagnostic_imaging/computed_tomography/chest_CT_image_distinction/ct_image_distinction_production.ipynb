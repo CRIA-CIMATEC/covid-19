{
 "cells": [
  {
   "cell_type": "markdown",
   "metadata": {},
   "source": [
    "# Artificial Neural Network to distinguish chest CT image\n",
    "\n",
    "### Training model for production with all images\n",
    "\n",
    "Model was trained to distinguish 3 classes: (A) CT of the chest, (B) CT of other parts of the body and (C) any images\n",
    "- Convolutional Neural network\n",
    "- Transferlearning: VGG16 from the kernel 56\n",
    "- Each fold a new VGG16 was inserted\n",
    "- batch_size = 10\n",
    "- image shape = 224, 224\n",
    "- epoch = 10"
   ]
  },
  {
   "cell_type": "code",
   "execution_count": 1,
   "metadata": {},
   "outputs": [],
   "source": [
    "from tensorflow.keras.preprocessing.image import ImageDataGenerator\n",
    "from tensorflow.keras.layers import Dense, Activation, Flatten, Dropout, BatchNormalization\n",
    "from tensorflow.keras.layers import Conv2D, MaxPooling2D\n",
    "from tensorflow.keras import regularizers, optimizers\n",
    "from tensorflow.keras import applications\n",
    "from tensorflow.keras.models import Sequential \n",
    "from tensorflow.keras.callbacks import ModelCheckpoint, EarlyStopping, CSVLogger\n",
    "from tensorflow.keras.utils import to_categorical\n",
    "import tensorflow as tf\n",
    "import pandas as pd\n",
    "import numpy as np\n",
    "import glob, os\n",
    "from sklearn.model_selection import KFold\n",
    "import datetime\n",
    "import multiclass_metrics\n",
    "import matplotlib.pyplot as plt"
   ]
  },
  {
   "cell_type": "markdown",
   "metadata": {},
   "source": [
    "### Dataset description"
   ]
  },
  {
   "cell_type": "code",
   "execution_count": 2,
   "metadata": {},
   "outputs": [
    {
     "data": {
      "text/html": [
       "<div>\n",
       "<style scoped>\n",
       "    .dataframe tbody tr th:only-of-type {\n",
       "        vertical-align: middle;\n",
       "    }\n",
       "\n",
       "    .dataframe tbody tr th {\n",
       "        vertical-align: top;\n",
       "    }\n",
       "\n",
       "    .dataframe thead th {\n",
       "        text-align: right;\n",
       "    }\n",
       "</style>\n",
       "<table border=\"1\" class=\"dataframe\">\n",
       "  <thead>\n",
       "    <tr style=\"text-align: right;\">\n",
       "      <th></th>\n",
       "      <th>Training</th>\n",
       "      <th>Training (%)</th>\n",
       "    </tr>\n",
       "  </thead>\n",
       "  <tbody>\n",
       "    <tr>\n",
       "      <th>chest_tc</th>\n",
       "      <td>137930</td>\n",
       "      <td>34.1</td>\n",
       "    </tr>\n",
       "    <tr>\n",
       "      <th>others_tc</th>\n",
       "      <td>147598</td>\n",
       "      <td>36.5</td>\n",
       "    </tr>\n",
       "    <tr>\n",
       "      <th>no_tc</th>\n",
       "      <td>118387</td>\n",
       "      <td>29.3</td>\n",
       "    </tr>\n",
       "    <tr>\n",
       "      <th>Total</th>\n",
       "      <td>403915</td>\n",
       "      <td>100.0</td>\n",
       "    </tr>\n",
       "  </tbody>\n",
       "</table>\n",
       "</div>"
      ],
      "text/plain": [
       "           Training Training (%)\n",
       "chest_tc     137930         34.1\n",
       "others_tc    147598         36.5\n",
       "no_tc        118387         29.3\n",
       "Total        403915        100.0"
      ]
     },
     "execution_count": 2,
     "metadata": {},
     "output_type": "execute_result"
    }
   ],
   "source": [
    "split = pd.read_csv('split_train_val_test.csv',index_col = [0])\n",
    "split.index = ['chest_tc','others_tc','no_tc']\n",
    "split['Training'] = split.sum(axis=1)\n",
    "split.loc['Total'] = split.sum()\n",
    "del split['Train'], split['Train %'], split['Validation'], split['Validation %'], split['Test'], split['Test %']\n",
    "\n",
    "split['Training (%)'] = ['%.1f' % (split.loc['chest_tc','Training'] / split.loc['Total','Training']*100),\n",
    "                        '%.1f' % (split.loc['others_tc','Training'] / split.loc['Total','Training']*100),\n",
    "                        '%.1f' % (split.loc['no_tc','Training'] / split.loc['Total','Training']*100),\n",
    "                        '%.1f' % (split.loc['Total','Training'] / split.loc['Total','Training']*100)]\n",
    "\n",
    "split"
   ]
  },
  {
   "cell_type": "code",
   "execution_count": 3,
   "metadata": {},
   "outputs": [
    {
     "data": {
      "image/png": "[encoded data removed]",
      "text/plain": [
       "<Figure size 432x432 with 1 Axes>"
      ]
     },
     "metadata": {},
     "output_type": "display_data"
    }
   ],
   "source": [
    "\n",
    "fig, ax = plt.subplots(figsize=(6, 6), subplot_kw=dict(aspect=\"equal\"))\n",
    "\n",
    "sum_chest_tc = split['Training']['chest_tc']\n",
    "sum_others_tc = split['Training']['others_tc']\n",
    "sum_no_tc = split['Training']['no_tc']\n",
    "\n",
    "recipe = [str(sum_chest_tc), str(sum_others_tc), str(sum_no_tc)]\n",
    "data = [float(x.split()[0]) for x in recipe]\n",
    "\n",
    "def func(pct, allvals):\n",
    "    absolute = int(pct/100.*np.sum(allvals))\n",
    "    return \"{:.1f}%\\n({:d})\".format(pct, absolute)\n",
    "\n",
    "wedges, texts, autotexts = ax.pie(data, labels=['Chest Tc','Others Tc','No Tc'], autopct=lambda pct: func(pct, data), textprops=dict(color=\"k\"))\n",
    "texts[0].set_fontsize(12)\n",
    "texts[1].set_fontsize(12)\n",
    "\n",
    "plt.setp(autotexts, size=12)\n",
    "# plt.legend(labels=group_names,loc=\"best\")\n",
    "ax.set_title(\"Training data proportions\", size=16)\n",
    "plt.show()"
   ]
  },
  {
   "cell_type": "markdown",
   "metadata": {},
   "source": [
    "### Import VGG16 pre-trained model"
   ]
  },
  {
   "cell_type": "code",
   "execution_count": 4,
   "metadata": {},
   "outputs": [
    {
     "name": "stdout",
     "output_type": "stream",
     "text": [
      "Model: \"vgg16\"\n",
      "_________________________________________________________________\n",
      "Layer (type)                 Output Shape              Param #   \n",
      "=================================================================\n",
      "input_1 (InputLayer)         [(None, 224, 224, 3)]     0         \n",
      "_________________________________________________________________\n",
      "block1_conv1 (Conv2D)        (None, 224, 224, 64)      1792      \n",
      "_________________________________________________________________\n",
      "block1_conv2 (Conv2D)        (None, 224, 224, 64)      36928     \n",
      "_________________________________________________________________\n",
      "block1_pool (MaxPooling2D)   (None, 112, 112, 64)      0         \n",
      "_________________________________________________________________\n",
      "block2_conv1 (Conv2D)        (None, 112, 112, 128)     73856     \n",
      "_________________________________________________________________\n",
      "block2_conv2 (Conv2D)        (None, 112, 112, 128)     147584    \n",
      "_________________________________________________________________\n",
      "block2_pool (MaxPooling2D)   (None, 56, 56, 128)       0         \n",
      "_________________________________________________________________\n",
      "block3_conv1 (Conv2D)        (None, 56, 56, 256)       295168    \n",
      "_________________________________________________________________\n",
      "block3_conv2 (Conv2D)        (None, 56, 56, 256)       590080    \n",
      "_________________________________________________________________\n",
      "block3_conv3 (Conv2D)        (None, 56, 56, 256)       590080    \n",
      "_________________________________________________________________\n",
      "block3_pool (MaxPooling2D)   (None, 28, 28, 256)       0         \n",
      "_________________________________________________________________\n",
      "block4_conv1 (Conv2D)        (None, 28, 28, 512)       1180160   \n",
      "_________________________________________________________________\n",
      "block4_conv2 (Conv2D)        (None, 28, 28, 512)       2359808   \n",
      "_________________________________________________________________\n",
      "block4_conv3 (Conv2D)        (None, 28, 28, 512)       2359808   \n",
      "_________________________________________________________________\n",
      "block4_pool (MaxPooling2D)   (None, 14, 14, 512)       0         \n",
      "_________________________________________________________________\n",
      "block5_conv1 (Conv2D)        (None, 14, 14, 512)       2359808   \n",
      "_________________________________________________________________\n",
      "block5_conv2 (Conv2D)        (None, 14, 14, 512)       2359808   \n",
      "_________________________________________________________________\n",
      "block5_conv3 (Conv2D)        (None, 14, 14, 512)       2359808   \n",
      "_________________________________________________________________\n",
      "block5_pool (MaxPooling2D)   (None, 7, 7, 512)         0         \n",
      "=================================================================\n",
      "Total params: 14,714,688\n",
      "Trainable params: 14,714,688\n",
      "Non-trainable params: 0\n",
      "_________________________________________________________________\n"
     ]
    },
    {
     "data": {
      "text/plain": [
       "None"
      ]
     },
     "metadata": {},
     "output_type": "display_data"
    }
   ],
   "source": [
    "img_width, img_height = 224, 224 \n",
    "batch_size = 10\n",
    "\n",
    "vgg16 = applications.VGG16(include_top=False, weights='imagenet',input_shape=(img_width, img_height, 3))\n",
    "display(vgg16.summary())"
   ]
  },
  {
   "cell_type": "markdown",
   "metadata": {},
   "source": [
    "### Freezing layers of VGG16 before the kernel 56"
   ]
  },
  {
   "cell_type": "code",
   "execution_count": 5,
   "metadata": {},
   "outputs": [
    {
     "name": "stdout",
     "output_type": "stream",
     "text": [
      "<tensorflow.python.keras.engine.input_layer.InputLayer object at 0x7f650864cad0> False\n",
      "<tensorflow.python.keras.layers.convolutional.Conv2D object at 0x7f650864cf90> False\n",
      "<tensorflow.python.keras.layers.convolutional.Conv2D object at 0x7f65096c5e50> False\n",
      "<tensorflow.python.keras.layers.pooling.MaxPooling2D object at 0x7f664b826b10> False\n",
      "<tensorflow.python.keras.layers.convolutional.Conv2D object at 0x7f6506581ad0> False\n",
      "<tensorflow.python.keras.layers.convolutional.Conv2D object at 0x7f650957f750> False\n",
      "<tensorflow.python.keras.layers.pooling.MaxPooling2D object at 0x7f65044cd810> False\n",
      "<tensorflow.python.keras.layers.convolutional.Conv2D object at 0x7f65044db950> True\n",
      "<tensorflow.python.keras.layers.convolutional.Conv2D object at 0x7f65044db910> True\n",
      "<tensorflow.python.keras.layers.convolutional.Conv2D object at 0x7f65044e5490> True\n",
      "<tensorflow.python.keras.layers.pooling.MaxPooling2D object at 0x7f65044ebe50> True\n",
      "<tensorflow.python.keras.layers.convolutional.Conv2D object at 0x7f65044efe10> True\n",
      "<tensorflow.python.keras.layers.convolutional.Conv2D object at 0x7f65044f65d0> True\n",
      "<tensorflow.python.keras.layers.convolutional.Conv2D object at 0x7f6504481210> True\n",
      "<tensorflow.python.keras.layers.pooling.MaxPooling2D object at 0x7f6504485990> True\n",
      "<tensorflow.python.keras.layers.convolutional.Conv2D object at 0x7f6504486c10> True\n",
      "<tensorflow.python.keras.layers.convolutional.Conv2D object at 0x7f6504491150> True\n",
      "<tensorflow.python.keras.layers.convolutional.Conv2D object at 0x7f650449cb10> True\n",
      "<tensorflow.python.keras.layers.pooling.MaxPooling2D object at 0x7f65044a1810> True\n"
     ]
    }
   ],
   "source": [
    "for layer in vgg16.layers[:-12]: layer.trainable = False\n",
    "\n",
    "for layer in vgg16.layers: print(layer, layer.trainable)"
   ]
  },
  {
   "cell_type": "markdown",
   "metadata": {},
   "source": [
    "### Dataframe for flow_from_directory"
   ]
  },
  {
   "cell_type": "code",
   "execution_count": 6,
   "metadata": {},
   "outputs": [
    {
     "data": {
      "text/html": [
       "<div>\n",
       "<style scoped>\n",
       "    .dataframe tbody tr th:only-of-type {\n",
       "        vertical-align: middle;\n",
       "    }\n",
       "\n",
       "    .dataframe tbody tr th {\n",
       "        vertical-align: top;\n",
       "    }\n",
       "\n",
       "    .dataframe thead th {\n",
       "        text-align: right;\n",
       "    }\n",
       "</style>\n",
       "<table border=\"1\" class=\"dataframe\">\n",
       "  <thead>\n",
       "    <tr style=\"text-align: right;\">\n",
       "      <th></th>\n",
       "      <th>id</th>\n",
       "      <th>label</th>\n",
       "    </tr>\n",
       "  </thead>\n",
       "  <tbody>\n",
       "    <tr>\n",
       "      <th>0</th>\n",
       "      <td>/scratch/v_project/diagnosticos/pre_processing...</td>\n",
       "      <td>chest_tc</td>\n",
       "    </tr>\n",
       "    <tr>\n",
       "      <th>1</th>\n",
       "      <td>/scratch/v_project/diagnosticos/pre_processing...</td>\n",
       "      <td>chest_tc</td>\n",
       "    </tr>\n",
       "    <tr>\n",
       "      <th>2</th>\n",
       "      <td>/scratch/v_project/diagnosticos/pre_processing...</td>\n",
       "      <td>chest_tc</td>\n",
       "    </tr>\n",
       "    <tr>\n",
       "      <th>3</th>\n",
       "      <td>/scratch/v_project/diagnosticos/pre_processing...</td>\n",
       "      <td>chest_tc</td>\n",
       "    </tr>\n",
       "    <tr>\n",
       "      <th>4</th>\n",
       "      <td>/scratch/v_project/diagnosticos/pre_processing...</td>\n",
       "      <td>chest_tc</td>\n",
       "    </tr>\n",
       "    <tr>\n",
       "      <th>...</th>\n",
       "      <td>...</td>\n",
       "      <td>...</td>\n",
       "    </tr>\n",
       "    <tr>\n",
       "      <th>403610</th>\n",
       "      <td>/scratch/v_project/diagnosticos/pre_processing...</td>\n",
       "      <td>no_tc</td>\n",
       "    </tr>\n",
       "    <tr>\n",
       "      <th>403611</th>\n",
       "      <td>/scratch/v_project/diagnosticos/pre_processing...</td>\n",
       "      <td>no_tc</td>\n",
       "    </tr>\n",
       "    <tr>\n",
       "      <th>403612</th>\n",
       "      <td>/scratch/v_project/diagnosticos/pre_processing...</td>\n",
       "      <td>no_tc</td>\n",
       "    </tr>\n",
       "    <tr>\n",
       "      <th>403613</th>\n",
       "      <td>/scratch/v_project/diagnosticos/pre_processing...</td>\n",
       "      <td>no_tc</td>\n",
       "    </tr>\n",
       "    <tr>\n",
       "      <th>403614</th>\n",
       "      <td>/scratch/v_project/diagnosticos/pre_processing...</td>\n",
       "      <td>no_tc</td>\n",
       "    </tr>\n",
       "  </tbody>\n",
       "</table>\n",
       "<p>403615 rows × 2 columns</p>\n",
       "</div>"
      ],
      "text/plain": [
       "                                                       id     label\n",
       "0       /scratch/v_project/diagnosticos/pre_processing...  chest_tc\n",
       "1       /scratch/v_project/diagnosticos/pre_processing...  chest_tc\n",
       "2       /scratch/v_project/diagnosticos/pre_processing...  chest_tc\n",
       "3       /scratch/v_project/diagnosticos/pre_processing...  chest_tc\n",
       "4       /scratch/v_project/diagnosticos/pre_processing...  chest_tc\n",
       "...                                                   ...       ...\n",
       "403610  /scratch/v_project/diagnosticos/pre_processing...     no_tc\n",
       "403611  /scratch/v_project/diagnosticos/pre_processing...     no_tc\n",
       "403612  /scratch/v_project/diagnosticos/pre_processing...     no_tc\n",
       "403613  /scratch/v_project/diagnosticos/pre_processing...     no_tc\n",
       "403614  /scratch/v_project/diagnosticos/pre_processing...     no_tc\n",
       "\n",
       "[403615 rows x 2 columns]"
      ]
     },
     "execution_count": 6,
     "metadata": {},
     "output_type": "execute_result"
    }
   ],
   "source": [
    "dataframe = pd.read_csv('dataframe.csv')\n",
    "dataframe"
   ]
  },
  {
   "cell_type": "code",
   "execution_count": null,
   "metadata": {},
   "outputs": [],
   "source": [
    "model_name = 'valid_CT_model'\n",
    "\n",
    "epochs = 10 \n",
    "\n",
    "train_datagen = ImageDataGenerator(rescale=1./255)\n",
    "\n",
    "train_generator=train_datagen.flow_from_dataframe(\n",
    "dataframe=dataframe,\n",
    "directory=\"./train/\",\n",
    "x_col=\"id\",\n",
    "y_col=\"label\",\n",
    "subset=\"training\",\n",
    "batch_size=batch_size,\n",
    "shuffle=False,\n",
    "class_mode=\"categorical\",\n",
    "target_size=(img_width, img_height))\n",
    "\n",
    "num_classes = len(train_generator.class_indices) \n",
    "print('Quantidade de classes:',num_classes)\n",
    "# get the class labels for the training data, in the original order \n",
    "train_labels = train_generator.classes\n",
    "train_labels = to_categorical(train_labels, num_classes=num_classes)"
   ]
  },
  {
   "cell_type": "code",
   "execution_count": null,
   "metadata": {},
   "outputs": [],
   "source": [
    "#create the model\n",
    "model = Sequential()\n",
    "#Add the vgg convolutional base model\n",
    "model.add(vgg16)\n",
    "#ADd new layers\n",
    "model.add(Flatten()) \n",
    "model.add(Dense(100, activation=tf.keras.layers.LeakyReLU(alpha=0.3))) \n",
    "model.add(Dropout(0.5)) \n",
    "model.add(Dense(50, activation=tf.keras.layers.LeakyReLU(alpha=0.3)))\n",
    "model.add(Dropout(0.3)) \n",
    "model.add(Dense(num_classes, activation='softmax'))\n",
    "\n",
    "display(model.summary())\n",
    "\n",
    "# Backlog parameters\n",
    "log_filepath = os.path.join('./out/log',model_name)\n",
    "os.makedirs(log_filepath, exist_ok=True)\n",
    "                            \n",
    "csv_log = CSVLogger(os.path.join(log_filepath, model_name + '.log'))                                   \n",
    "\n",
    "callbacks_path = os.path.join('./out/H5',model_name)\n",
    "os.makedirs(callbacks_path,exist_ok=True)\n",
    "\n",
    "filepath=(os.path.join(callbacks_path,model_name + '_{epoch:02d}_AC{acc:.3f}_L{loss:.5f}.h5') )\n",
    "\n",
    "\n",
    "callbacks_list = [ModelCheckpoint(filepath,\n",
    "                                  monitor='acc',\n",
    "                                  include_optimizer=False,\n",
    "                                  save_best_only=True),\n",
    "                  EarlyStopping(monitor='acc', patience=20, restore_best_weights=True), csv_log]\n",
    "\n",
    "model.compile(loss='categorical_crossentropy', optimizer=optimizers.Adam(lr=1e-4),metrics=['acc'])\n",
    "\n",
    "history = model.fit(train_generator,\n",
    "#                     steps_per_epoch=train_generator.samples/train_generator.batch_size, \n",
    "                    epochs=epochs,\n",
    "#                         validation_data=validation_generator,\n",
    "#                     validation_steps=validation_generator.samples/validation_generator.batch_size,\n",
    "                    callbacks=callbacks_list,\n",
    "                    verbose=1)"
   ]
  },
  {
   "cell_type": "code",
   "execution_count": null,
   "metadata": {},
   "outputs": [],
   "source": [
    "#save model\n",
    "model.save(os.path.join('./H5',model_name,'final_model.h5'))\n",
    "print('model h5 saved')\n",
    "# model.save_weights('weights'+top_model_weights_path)\n",
    "\n",
    "start = datetime.datetime.now()\n",
    "(train_loss, train_accuracy) = model.evaluate( \n",
    "    train_generator,use_multiprocessing=True)\n",
    "print('[INFO] accuracy: {:.2f}%'.format(train_accuracy * 100)) \n",
    "print('[INFO] Loss: {}'.format(train_loss)) \n",
    "end= datetime.datetime.now()\n",
    "elapsed= end-start\n",
    "print ('Time spent evaluating:', elapsed)\n",
    "\n",
    "#Graphing our training and validation\n",
    "acc = history.history['acc']\n",
    "#     val_acc = history.history['val_acc']\n",
    "loss = history.history['loss']\n",
    "#     val_loss = history.history['val_loss']\n",
    "epochs = range(len(acc))\n",
    "plt.figure(figsize=(14,4))\n",
    "plt.plot(epochs, acc, 'r', label='Training acc')\n",
    "#     plt.plot(epochs, val_acc, 'b', label='Validation acc')\n",
    "plt.title('Training accuracy')\n",
    "plt.ylabel('accuracy') \n",
    "plt.xlabel('epoch')\n",
    "plt.legend()\n",
    "plt.ylim(0,1)\n",
    "plt.show()\n",
    "\n",
    "plt.figure(figsize=(14,4))\n",
    "plt.plot(epochs, loss, 'r', label='Training loss')\n",
    "#     plt.plot(epochs, val_loss, 'b', label='Validation loss')\n",
    "plt.title('Training loss')\n",
    "plt.ylabel('loss') \n",
    "plt.xlabel('epoch')\n",
    "plt.legend()\n",
    "plt.ylim(0,1)\n",
    "plt.show()\n",
    "\n",
    "start = datetime.datetime.now()\n",
    "preds = np.round(model.predict(train_generator),0)\n",
    "print('rounded test labels',preds)\n",
    "end = datetime.datetime.now()\n",
    "elapsed= end-start\n",
    "print ('Time to predict: ', elapsed)\n",
    "\n",
    "\n"
   ]
  },
  {
   "cell_type": "code",
   "execution_count": null,
   "metadata": {},
   "outputs": [],
   "source": [
    "# model = load_model('./H5',model_name,'final_model.h5', custom_objects={'LeakyReLU': tf.keras.layers.LeakyReLU})"
   ]
  },
  {
   "cell_type": "code",
   "execution_count": null,
   "metadata": {},
   "outputs": [],
   "source": [
    "start = datetime.datetime.now()\n",
    "preds = np.round(model.predict(train_generator),0)\n",
    "print('rounded test labels',preds)\n",
    "end = datetime.datetime.now()\n",
    "elapsed= end-start\n",
    "print ('Time to predict: ', elapsed)"
   ]
  },
  {
   "cell_type": "code",
   "execution_count": null,
   "metadata": {},
   "outputs": [],
   "source": [
    "save_path = os.path.join('./saida_metricas',rede)\n",
    "\n",
    "classes = ['Chest TC','No TC','Others TC']\n",
    "metricas = multiclass_metrics.get_metrics(train_labels, preds, class_names=classes,save_path=save_path)\n",
    "display(metricas)\n",
    "\n",
    "multiclass_metrics.plot_graphics(train_labels,preds, class_names=classes,save_path=save_path)\n",
    "\n",
    "# print('Métricas')\n",
    "# display(metricas)"
   ]
  },
  {
   "cell_type": "code",
   "execution_count": null,
   "metadata": {},
   "outputs": [],
   "source": []
  }
 ],
 "metadata": {
  "kernelspec": {
   "display_name": "Python 3",
   "language": "python",
   "name": "python3"
  },
  "language_info": {
   "codemirror_mode": {
    "name": "ipython",
    "version": 3
   },
   "file_extension": ".py",
   "mimetype": "text/x-python",
   "name": "python",
   "nbconvert_exporter": "python",
   "pygments_lexer": "ipython3",
   "version": "3.7.6"
  }
 },
 "nbformat": 4,
 "nbformat_minor": 4
}
